{
 "cells": [
  {
   "cell_type": "code",
   "execution_count": 1,
   "id": "b6a1c7cb",
   "metadata": {},
   "outputs": [],
   "source": [
    "from notebooks.dataset_validation_utils import check_power_balance\n",
    "from core.datasets.pfdelta_dataset import PFDeltaDataset"
   ]
  },
  {
   "cell_type": "code",
   "execution_count": 2,
   "id": "c37c9d93",
   "metadata": {},
   "outputs": [
    {
     "name": "stderr",
     "output_type": "stream",
     "text": [
      "Processing...\n"
     ]
    },
    {
     "name": "stdout",
     "output_type": "stream",
     "text": [
      "Downloading files for task analysis...\n",
      "Shuffle files already exist. Skipping download.\n",
      "case2000 data already exists. Skipping download.\n",
      "Processing data for task analysis\n"
     ]
    },
    {
     "name": "stderr",
     "output_type": "stream",
     "text": [
      "Building analysis data: 100%|██████████| 100/100 [00:43<00:00,  2.31it/s]"
     ]
    },
    {
     "name": "stdout",
     "output_type": "stream",
     "text": [
      "Loading all dataset from data/processed/task_analysis_case2000_n_feasible_100/all.pt\n"
     ]
    },
    {
     "name": "stderr",
     "output_type": "stream",
     "text": [
      "\n",
      "Done!\n",
      "/Users/anarivera/Documents/Projects/pfdelta_submitted/pfdelta/core/datasets/pfdelta_dataset.py:899: FutureWarning: You are using `torch.load` with `weights_only=False` (the current default value), which uses the default pickle module implicitly. It is possible to construct malicious pickle data which will execute arbitrary code during unpickling (See https://github.com/pytorch/pytorch/blob/main/SECURITY.md#untrusted-models for more details). In a future release, the default value for `weights_only` will be flipped to `True`. This limits the functions that could be executed during unpickling. Arbitrary objects will no longer be allowed to be loaded via this mode unless they are explicitly allowlisted by the user via `torch.serialization.add_safe_globals`. We recommend you start setting `weights_only=True` for any use case where you don't have full control of the loaded file. Please open an issue on GitHub for any issues related to this experimental feature.\n",
      "  self.data, self.slices = torch.load(processed_path)\n"
     ]
    }
   ],
   "source": [
    "case_name = \"case2000\"\n",
    "root_dir = \"data\"\n",
    "n_samples = 100\n",
    "feasibility_type = \"feasible\"\n",
    "case_n = PFDeltaDataset(\n",
    "    root_dir = root_dir,\n",
    "    case_name = case_name,\n",
    "    perturbation = \"n\",\n",
    "    task = \"analysis\",\n",
    "    n_samples=n_samples,\n",
    "    feasibility_type=feasibility_type\n",
    ")"
   ]
  },
  {
   "cell_type": "code",
   "execution_count": 3,
   "id": "8cdf17c9",
   "metadata": {},
   "outputs": [
    {
     "data": {
      "text/plain": [
       "{'delta_P': {'max': 0.0002803802490234375,\n",
       "  'min': 0.0,\n",
       "  'mean': 1.4526877748721745e-05,\n",
       "  'median': 3.0919909477233887e-06,\n",
       "  'std': 2.4798642698442563e-05},\n",
       " 'delta_Q': {'max': 0.00046539306640625,\n",
       "  'min': 0.0,\n",
       "  'mean': 2.5939893021131866e-05,\n",
       "  'median': 5.245208740234375e-06,\n",
       "  'std': 4.2443349229870364e-05}}"
      ]
     },
     "execution_count": 3,
     "metadata": {},
     "output_type": "execute_result"
    }
   ],
   "source": [
    "stats = check_power_balance(case_n)\n",
    "stats"
   ]
  },
  {
   "cell_type": "code",
   "execution_count": 4,
   "id": "c229f61e",
   "metadata": {},
   "outputs": [
    {
     "data": {
      "text/plain": [
       "HeteroData(\n",
       "  bus={\n",
       "    x=[2000, 2],\n",
       "    y=[2000, 2],\n",
       "    bus_gen=[2000, 2],\n",
       "    bus_demand=[2000, 2],\n",
       "    bus_voltages=[2000, 2],\n",
       "    bus_type=[2000],\n",
       "    shunt=[2000, 2],\n",
       "    limits=[2000, 2],\n",
       "  },\n",
       "  gen={\n",
       "    limits=[238, 4],\n",
       "    generation=[238, 2],\n",
       "    slack_gen=[238],\n",
       "  },\n",
       "  load={ demand=[1010, 2] },\n",
       "  (bus, branch, bus)={\n",
       "    edge_index=[2, 3633],\n",
       "    edge_attr=[3633, 8],\n",
       "    edge_label=[3633, 4],\n",
       "    edge_limits=[3633, 1],\n",
       "  },\n",
       "  (gen, gen_link, bus)={ edge_index=[2, 238] },\n",
       "  (bus, gen_link, gen)={ edge_index=[2, 238] },\n",
       "  (load, load_link, bus)={ edge_index=[2, 1010] },\n",
       "  (bus, load_link, load)={ edge_index=[2, 1010] }\n",
       ")"
      ]
     },
     "execution_count": 4,
     "metadata": {},
     "output_type": "execute_result"
    }
   ],
   "source": [
    "case_n[0]"
   ]
  }
 ],
 "metadata": {
  "kernelspec": {
   "display_name": "pfdelta_env",
   "language": "python",
   "name": "python3"
  },
  "language_info": {
   "codemirror_mode": {
    "name": "ipython",
    "version": 3
   },
   "file_extension": ".py",
   "mimetype": "text/x-python",
   "name": "python",
   "nbconvert_exporter": "python",
   "pygments_lexer": "ipython3",
   "version": "3.10.18"
  }
 },
 "nbformat": 4,
 "nbformat_minor": 5
}
