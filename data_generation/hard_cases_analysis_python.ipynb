{
 "cells": [
  {
   "cell_type": "code",
   "execution_count": null,
   "id": "49dc4fb6",
   "metadata": {
    "vscode": {
     "languageId": "julia"
    }
   },
   "outputs": [],
   "source": [
    "from losses_to_test import PowerBalanceLoss\n",
    "from pfdelta_dataset import PFDeltaDataset"
   ]
  },
  {
   "cell_type": "code",
   "execution_count": null,
   "id": "7fefd909",
   "metadata": {
    "vscode": {
     "languageId": "julia"
    }
   },
   "outputs": [],
   "source": [
    "root_dir = \n",
    "hard_dataset = PFDeltaDataset(\n",
    "    root_dir = ,\n",
    "    case_name = ,\n",
    "    split = , \n",
    "    task = , \n",
    ")"
   ]
  },
  {
   "cell_type": "code",
   "execution_count": null,
   "id": "2cb6b08a",
   "metadata": {
    "vscode": {
     "languageId": "julia"
    }
   },
   "outputs": [],
   "source": [
    "# Power balance loss in nose and around-the-nose points\n",
    "for data in hard_dataset:\n",
    "    outputs = \n",
    "    "
   ]
  },
  {
   "cell_type": "code",
   "execution_count": null,
   "id": "b1f9d2c6",
   "metadata": {
    "vscode": {
     "languageId": "julia"
    }
   },
   "outputs": [],
   "source": [
    "# Plot PV curve (with pytorch data)"
   ]
  },
  {
   "cell_type": "code",
   "execution_count": null,
   "id": "38ad2b8a",
   "metadata": {
    "vscode": {
     "languageId": "julia"
    }
   },
   "outputs": [],
   "source": [
    "# Compare distributions of these points vs regular ones (?)"
   ]
  }
 ],
 "metadata": {
  "language_info": {
   "name": "python"
  }
 },
 "nbformat": 4,
 "nbformat_minor": 5
}
