{
 "cells": [
  {
   "cell_type": "code",
   "execution_count": 42,
   "id": "51f91120",
   "metadata": {},
   "outputs": [
    {
     "name": "stderr",
     "output_type": "stream",
     "text": [
      "\u001b[32m\u001b[1m  Activating\u001b[22m\u001b[39m project at `~/Documents/Projects/pfdelta/data_generation`\n"
     ]
    }
   ],
   "source": [
    "using Pkg\n",
    "Pkg.activate(\".\")"
   ]
  },
  {
   "cell_type": "code",
   "execution_count": 43,
   "id": "a0a512ab",
   "metadata": {},
   "outputs": [
    {
     "data": {
      "text/plain": [
       "variable_branch_power_pfdelta (generic function with 1 method)"
      ]
     },
     "metadata": {},
     "output_type": "display_data"
    }
   ],
   "source": [
    "import PowerModels\n",
    "import PowerModels: ref, var, ids\n",
    "const PM = PowerModels\n",
    "import JuMP\n",
    "import Ipopt\n",
    "include(\"src/build_opf_pfdelta.jl\")"
   ]
  },
  {
   "cell_type": "code",
   "execution_count": 44,
   "id": "1de6fc34",
   "metadata": {},
   "outputs": [
    {
     "name": "stdout",
     "output_type": "stream",
     "text": [
      "\u001b[32m[info | PowerModels]: extending matpower format with data: areas 1x3\u001b[39m\n",
      "\u001b[32m[info | PowerModels]: removing 1 cost terms from generator 4: [4000.0, 0.0]\u001b[39m\n",
      "\u001b[32m[info | PowerModels]: removing 1 cost terms from generator 1: [1400.0, 0.0]\u001b[39m\n",
      "\u001b[32m[info | PowerModels]: removing 1 cost terms from generator 5: [1000.0, 0.0]\u001b[39m\n",
      "\u001b[32m[info | PowerModels]: removing 1 cost terms from generator 2: [1500.0, 0.0]\u001b[39m\n",
      "\u001b[32m[info | PowerModels]: removing 1 cost terms from generator 3: [3000.0, 0.0]\u001b[39m\n",
      "This is Ipopt version 3.13.4, running with linear solver mumps.\n",
      "NOTE: Other linear solvers might be more efficient (see Ipopt documentation).\n",
      "\n",
      "Number of nonzeros in equality constraint Jacobian...:      153\n",
      "Number of nonzeros in inequality constraint Jacobian.:       48\n",
      "Number of nonzeros in Lagrangian Hessian.............:      264\n",
      "\n",
      "Total number of variables............................:       42\n",
      "                     variables with only lower bounds:        0\n",
      "                variables with lower and upper bounds:       37\n",
      "                     variables with only upper bounds:        0\n",
      "Total number of equality constraints.................:       35\n",
      "Total number of inequality constraints...............:       24\n",
      "        inequality constraints with only lower bounds:        6\n",
      "   inequality constraints with lower and upper bounds:        0\n",
      "        inequality constraints with only upper bounds:       18\n",
      "\n",
      "iter    objective    inf_pr   inf_du lg(mu)  ||d||  lg(rg) alpha_du alpha_pr  ls\n",
      "   0  9.4999905e+01 3.99e+00 2.71e+01  -1.0 0.00e+00    -  0.00e+00 0.00e+00   0\n",
      "   1  1.4155935e+04 1.50e+00 1.72e+02  -1.0 2.75e+00    -  3.71e-03 6.25e-01H  1\n",
      "   2  1.1116953e+04 1.36e+00 1.56e+02  -1.0 1.55e+01    -  5.00e-02 9.35e-02f  1\n",
      "   3  1.0793748e+04 1.33e+00 1.52e+02  -1.0 1.73e+01    -  4.55e-01 1.93e-02f  1\n",
      "   4  1.0782177e+04 1.09e+00 1.23e+02  -1.0 1.16e+01    -  6.87e-01 1.79e-01h  2\n",
      "   5  1.2693579e+04 6.18e-01 6.94e+01  -1.0 6.27e+00    -  1.00e+00 4.34e-01h  1\n",
      "   6  1.5198391e+04 3.09e-01 3.65e+01  -1.0 1.72e+00    -  8.35e-01 5.00e-01h  1\n",
      "   7  1.7591206e+04 1.53e-02 6.41e+00  -1.0 8.16e-01    -  1.00e+00 9.50e-01h  1\n",
      "   8  1.7709447e+04 1.25e-04 5.79e-01  -1.0 1.25e+00    -  1.00e+00 1.00e+00H  1\n",
      "   9  1.7688039e+04 3.75e-03 8.96e-02  -1.7 1.84e-01    -  1.00e+00 1.00e+00f  1\n",
      "iter    objective    inf_pr   inf_du lg(mu)  ||d||  lg(rg) alpha_du alpha_pr  ls\n",
      "  10  1.7681351e+04 3.95e-03 1.31e+00  -2.5 1.02e-01    -  1.00e+00 8.04e-01h  1\n",
      "  11  1.7680981e+04 2.35e-05 3.34e-02  -2.5 3.36e-02    -  1.00e+00 1.00e+00h  1\n",
      "  12  1.7680916e+04 1.47e-06 1.16e-03  -2.5 2.64e-03    -  1.00e+00 1.00e+00h  1\n",
      "  13  1.7680226e+04 4.17e-06 1.08e+00  -3.8 1.73e-02    -  1.00e+00 9.25e-01f  1\n",
      "  14  1.7680197e+04 9.61e-08 1.13e-02  -3.8 5.32e-03    -  1.00e+00 1.00e+00f  1\n",
      "  15  1.7680199e+04 1.76e-10 1.52e-04  -3.8 3.00e-04    -  1.00e+00 1.00e+00h  1\n",
      "  16  1.7680163e+04 1.48e-07 1.22e-01  -5.7 1.62e-03    -  1.00e+00 9.77e-01f  1\n",
      "  17  1.7680163e+04 2.86e-11 1.30e-05  -5.7 1.33e-04    -  1.00e+00 1.00e+00f  1\n",
      "  18  1.7680163e+04 2.37e-12 2.09e-07  -8.6 2.28e-05    -  1.00e+00 1.00e+00h  1\n",
      "  19  1.7680163e+04 4.84e-14 1.58e-12  -8.6 1.94e-08    -  1.00e+00 1.00e+00h  1\n",
      "\n",
      "Number of Iterations....: 19\n",
      "\n",
      "                                   (scaled)                 (unscaled)\n",
      "Objective...............:   4.4200406526660220e+02    1.7680162610664087e+04\n",
      "Dual infeasibility......:   1.5810450598451844e-12    6.3241802393807377e-11\n",
      "Constraint violation....:   3.1289459911931771e-14    4.8405723873656825e-14\n",
      "Complementarity.........:   2.5059054277895387e-09    1.0023621711158155e-07\n",
      "Overall NLP error.......:   2.5059054277895387e-09    1.0023621711158155e-07\n",
      "\n",
      "\n",
      "Number of objective function evaluations             = 25\n",
      "Number of objective gradient evaluations             = 20\n",
      "Number of equality constraint evaluations            = 25\n",
      "Number of inequality constraint evaluations          = 25\n",
      "Number of equality constraint Jacobian evaluations   = 20\n",
      "Number of inequality constraint Jacobian evaluations = 20\n",
      "Number of Lagrangian Hessian evaluations             = 19\n",
      "Total CPU secs in IPOPT (w/o function evaluations)   =      0.013\n",
      "Total CPU secs in NLP function evaluations           =      0.001\n",
      "\n",
      "EXIT: Optimal Solution Found.\n"
     ]
    },
    {
     "data": {
      "text/plain": [
       "Dict{String, Any} with 8 entries:\n",
       "  \"solve_time\"         => 0.016309\n",
       "  \"optimizer\"          => \"Ipopt\"\n",
       "  \"termination_status\" => LOCALLY_SOLVED\n",
       "  \"dual_status\"        => FEASIBLE_POINT\n",
       "  \"primal_status\"      => FEASIBLE_POINT\n",
       "  \"objective\"          => 17680.2\n",
       "  \"solution\"           => Dict{String, Any}(\"baseMVA\"=>100.0, \"branch\"=>Dict{St…\n",
       "  \"objective_lb\"       => -Inf"
      ]
     },
     "metadata": {},
     "output_type": "display_data"
    }
   ],
   "source": [
    "# Experiment # 1: disconnect slack generator\n",
    "slack_gen = \"1\"\n",
    "net_exp1 = PM.parse_matpower(\"pglib/pglib_opf_case5_pjm.m\")\n",
    "net_exp1[\"gen\"][slack_gen][\"gen_status\"] = 0\n",
    "pm_default = PM.instantiate_model(net_exp1, PM.ACPPowerModel, PM.build_opf)\n",
    "result_default = PM.optimize_model!(pm_default, optimizer=Ipopt.Optimizer)\n",
    "result_default"
   ]
  },
  {
   "cell_type": "code",
   "execution_count": 45,
   "id": "4c2786a7",
   "metadata": {},
   "outputs": [
    {
     "data": {
      "text/plain": [
       "Dict{String, Any} with 4 entries:\n",
       "  \"4\" => Dict{String, Any}(\"qg\"=>-0.0495998, \"pg\"=>0.0)\n",
       "  \"5\" => Dict{String, Any}(\"qg\"=>-1.42235, \"pg\"=>4.96076)\n",
       "  \"2\" => Dict{String, Any}(\"qg\"=>1.275, \"pg\"=>1.7)\n",
       "  \"3\" => Dict{String, Any}(\"qg\"=>3.9, \"pg\"=>3.3898)"
      ]
     },
     "metadata": {},
     "output_type": "display_data"
    }
   ],
   "source": [
    "result_default[\"solution\"][\"gen\"]"
   ]
  },
  {
   "cell_type": "code",
   "execution_count": 46,
   "id": "ea1b1d03",
   "metadata": {},
   "outputs": [
    {
     "name": "stdout",
     "output_type": "stream",
     "text": [
      "This is Ipopt version 3.13.4, running with linear solver mumps.\n",
      "NOTE: Other linear solvers might be more efficient (see Ipopt documentation).\n",
      "\n",
      "Number of nonzeros in equality constraint Jacobian...:      153\n",
      "Number of nonzeros in inequality constraint Jacobian.:        0\n",
      "Number of nonzeros in Lagrangian Hessian.............:      240\n",
      "\n",
      "Total number of variables............................:       42\n",
      "                     variables with only lower bounds:        1\n",
      "                variables with lower and upper bounds:        7\n",
      "                     variables with only upper bounds:        0\n",
      "Total number of equality constraints.................:       35\n",
      "Total number of inequality constraints...............:        0\n",
      "        inequality constraints with only lower bounds:        0\n",
      "   inequality constraints with lower and upper bounds:        0\n",
      "        inequality constraints with only upper bounds:        0\n",
      "\n",
      "iter    objective    inf_pr   inf_du lg(mu)  ||d||  lg(rg) alpha_du alpha_pr  ls\n",
      "   0  5.4999945e+01 4.00e+00 2.71e+01  -1.0 0.00e+00    -  0.00e+00 0.00e+00   0\n",
      "   1  3.5216279e+04 1.38e-01 7.42e+01  -1.0 8.04e+00    -  1.30e-02 1.00e+00h  1\n",
      "   2  1.7910064e+04 1.80e-01 7.24e+01  -1.0 1.71e+02    -  6.28e-03 3.52e-02f  1\n",
      "   3  1.6989682e+04 1.76e-01 6.98e+01  -1.0 2.98e+01    -  3.76e-02 1.70e-02f  1\n",
      "   4  1.4533906e+04 1.77e-01 6.73e+01  -1.0 4.04e+01    -  3.50e-02 5.80e-02f  1\n",
      "   5  1.2454975e+04 1.89e-01 5.37e+01  -1.0 2.39e+01    -  2.04e-01 8.74e-02f  1\n",
      "   6  1.2502439e+04 1.49e-01 1.68e+01  -1.0 1.10e+00    -  9.83e-01 2.12e-01h  1\n",
      "   7  1.2805864e+04 1.72e-02 1.66e+00  -1.0 1.00e+00    -  1.00e+00 1.00e+00h  1\n",
      "   8  1.2811264e+04 1.23e-04 8.79e-03  -1.0 2.92e-02    -  1.00e+00 1.00e+00h  1\n",
      "   9  1.2789957e+04 3.57e-03 4.56e-02  -2.5 2.12e-02    -  9.09e-01 1.00e+00f  1\n",
      "iter    objective    inf_pr   inf_du lg(mu)  ||d||  lg(rg) alpha_du alpha_pr  ls\n",
      "  10  1.2788110e+04 6.39e-04 1.67e-01  -2.5 6.96e-02    -  1.00e+00 8.61e-01h  1\n",
      "  11  1.2788167e+04 5.79e-05 3.49e-05  -2.5 1.53e-01    -  1.00e+00 1.00e+00f  1\n",
      "  12  1.2787622e+04 3.56e-05 1.61e-01  -3.8 7.27e-02    -  1.00e+00 8.76e-01h  1\n",
      "  13  1.2787579e+04 9.73e-06 9.53e-06  -3.8 5.70e-02    -  1.00e+00 1.00e+00f  1\n",
      "  14  1.2787554e+04 3.59e-06 2.24e-02  -5.7 2.93e-02    -  1.00e+00 9.58e-01h  1\n",
      "  15  1.2787553e+04 5.99e-07 2.94e-07  -5.7 1.23e-02    -  1.00e+00 1.00e+00f  1\n",
      "  16  1.2787553e+04 5.68e-08 3.24e-04  -8.6 3.61e-03    -  1.00e+00 9.95e-01h  1\n",
      "  17  1.2787553e+04 7.27e-10 3.56e-10  -8.6 4.16e-04    -  1.00e+00 1.00e+00f  1\n",
      "  18  1.2787553e+04 1.01e-13 6.60e-12  -9.0 5.89e-06    -  1.00e+00 1.00e+00h  1\n",
      "\n",
      "Number of Iterations....: 18\n",
      "\n",
      "                                   (scaled)                 (unscaled)\n",
      "Objective...............:   3.1968881947515683e+02    1.2787552779006273e+04\n",
      "Dual infeasibility......:   6.5952798777857424e-12    2.6381119511142970e-10\n",
      "Constraint violation....:   6.4983041170307843e-14    1.0053069487980792e-13\n",
      "Complementarity.........:   9.1229338423776903e-10    3.6491735369510756e-08\n",
      "Overall NLP error.......:   9.1229338423776903e-10    3.6491735369510756e-08\n",
      "\n",
      "\n",
      "Number of objective function evaluations             = 19\n",
      "Number of objective gradient evaluations             = 19\n",
      "Number of equality constraint evaluations            = 19\n",
      "Number of inequality constraint evaluations          = 0\n",
      "Number of equality constraint Jacobian evaluations   = 19\n",
      "Number of inequality constraint Jacobian evaluations = 0\n",
      "Number of Lagrangian Hessian evaluations             = 18\n",
      "Total CPU secs in IPOPT (w/o function evaluations)   =      0.008\n",
      "Total CPU secs in NLP function evaluations           =      0.001\n",
      "\n",
      "EXIT: Optimal Solution Found.\n"
     ]
    },
    {
     "data": {
      "text/plain": [
       "Dict{String, Any} with 8 entries:\n",
       "  \"solve_time\"         => 0.0107651\n",
       "  \"optimizer\"          => \"Ipopt\"\n",
       "  \"termination_status\" => LOCALLY_SOLVED\n",
       "  \"dual_status\"        => FEASIBLE_POINT\n",
       "  \"primal_status\"      => FEASIBLE_POINT\n",
       "  \"objective\"          => 12787.6\n",
       "  \"solution\"           => Dict{String, Any}(\"baseMVA\"=>100.0, \"branch\"=>Dict{St…\n",
       "  \"objective_lb\"       => -Inf"
      ]
     },
     "metadata": {},
     "output_type": "display_data"
    }
   ],
   "source": [
    "pm_our = PM.instantiate_model(net_exp1, PM.ACPPowerModel, build_opf_power_flow_delta)\n",
    "result_our = PM.optimize_model!(pm_our, optimizer=Ipopt.Optimizer)\n",
    "result_our"
   ]
  },
  {
   "cell_type": "code",
   "execution_count": 47,
   "id": "76a38245",
   "metadata": {},
   "outputs": [
    {
     "data": {
      "text/plain": [
       "Dict{String, Any} with 4 entries:\n",
       "  \"4\" => Dict{String, Any}(\"qg\"=>-0.0495998, \"pg\"=>0.0)\n",
       "  \"5\" => Dict{String, Any}(\"qg\"=>-1.42235, \"pg\"=>4.96076)\n",
       "  \"2\" => Dict{String, Any}(\"qg\"=>1.275, \"pg\"=>1.7)\n",
       "  \"3\" => Dict{String, Any}(\"qg\"=>3.9, \"pg\"=>3.3898)"
      ]
     },
     "metadata": {},
     "output_type": "display_data"
    }
   ],
   "source": [
    "result_default[\"solution\"][\"gen\"]"
   ]
  },
  {
   "cell_type": "code",
   "execution_count": 48,
   "id": "1a11279e",
   "metadata": {},
   "outputs": [
    {
     "ename": "UndefVarError",
     "evalue": "UndefVarError: `net` not defined",
     "output_type": "error",
     "traceback": [
      "UndefVarError: `net` not defined\n",
      "\n",
      "Stacktrace:\n",
      " [1] top-level scope\n",
      "   @ ~/Documents/Projects/pfdelta/data_generation/jl_notebook_cell_df34fa98e69747e1a8f8a730347b8e2f_W5sZmlsZQ==.jl:1"
     ]
    }
   ],
   "source": [
    "pm = PM.instantiate_model(net, PM.ACPPowerModel, build_opf_power_flow_delta)\n",
    "print(pm.model)"
   ]
  },
  {
   "cell_type": "code",
   "execution_count": 49,
   "id": "9e7584f1",
   "metadata": {},
   "outputs": [
    {
     "ename": "UndefVarError",
     "evalue": "UndefVarError: `pm` not defined",
     "output_type": "error",
     "traceback": [
      "UndefVarError: `pm` not defined\n",
      "\n",
      "Stacktrace:\n",
      " [1] top-level scope\n",
      "   @ ~/Documents/Projects/pfdelta/data_generation/jl_notebook_cell_df34fa98e69747e1a8f8a730347b8e2f_W6sZmlsZQ==.jl:1"
     ]
    }
   ],
   "source": [
    "result = PM.optimize_model!(pm, optimizer=Ipopt.Optimizer)"
   ]
  },
  {
   "cell_type": "code",
   "execution_count": 50,
   "id": "42d41a88",
   "metadata": {},
   "outputs": [
    {
     "data": {
      "text/plain": [
       "Dict{String, Any} with 4 entries:\n",
       "  \"4\" => Dict{String, Any}(\"qg\"=>-0.0495998, \"pg\"=>0.0)\n",
       "  \"5\" => Dict{String, Any}(\"qg\"=>-1.42235, \"pg\"=>4.96076)\n",
       "  \"2\" => Dict{String, Any}(\"qg\"=>1.275, \"pg\"=>1.7)\n",
       "  \"3\" => Dict{String, Any}(\"qg\"=>3.9, \"pg\"=>3.3898)"
      ]
     },
     "metadata": {},
     "output_type": "display_data"
    }
   ],
   "source": [
    "result[\"solution\"][\"gen\"]"
   ]
  },
  {
   "cell_type": "code",
   "execution_count": 51,
   "id": "b302e7d4",
   "metadata": {},
   "outputs": [
    {
     "name": "stdout",
     "output_type": "stream",
     "text": [
      "\u001b[32m[info | PowerModels]: extending matpower format with data: areas 1x3\u001b[39m\n",
      "\u001b[32m[info | PowerModels]: removing 1 cost terms from generator 4: [4000.0, 0.0]\u001b[39m\n",
      "\u001b[32m[info | PowerModels]: removing 1 cost terms from generator 1: [1400.0, 0.0]\u001b[39m\n",
      "\u001b[32m[info | PowerModels]: removing 1 cost terms from generator 5: [1000.0, 0.0]\u001b[39m\n",
      "\u001b[32m[info | PowerModels]: removing 1 cost terms from generator 2: [1500.0, 0.0]\u001b[39m\n",
      "\u001b[32m[info | PowerModels]: removing 1 cost terms from generator 3: [3000.0, 0.0]\u001b[39m\n",
      "This is Ipopt version 3.13.4, running with linear solver mumps.\n",
      "NOTE: Other linear solvers might be more efficient (see Ipopt documentation).\n",
      "\n",
      "Number of nonzeros in equality constraint Jacobian...:      107\n",
      "Number of nonzeros in inequality constraint Jacobian.:       32\n",
      "Number of nonzeros in Lagrangian Hessian.............:      176\n",
      "\n",
      "Total number of variables............................:       36\n",
      "                     variables with only lower bounds:        0\n",
      "                variables with lower and upper bounds:       31\n",
      "                     variables with only upper bounds:        0\n",
      "Total number of equality constraints.................:       27\n",
      "Total number of inequality constraints...............:       16\n",
      "        inequality constraints with only lower bounds:        4\n",
      "   inequality constraints with lower and upper bounds:        0\n",
      "        inequality constraints with only upper bounds:       12\n",
      "\n",
      "iter    objective    inf_pr   inf_du lg(mu)  ||d||  lg(rg) alpha_du alpha_pr  ls\n",
      "   0  1.0059989e+02 3.99e+00 1.00e+02  -1.0 0.00e+00    -  0.00e+00 0.00e+00   0\n",
      "   1  7.5201837e+03 3.00e+00 7.83e+01  -1.0 2.21e+00  -2.0 5.53e-03 5.13e-01H  1\n",
      "   2  5.9982820e+03 3.00e+00 7.55e+01  -1.0 2.38e+01  -1.6 7.59e-02 3.53e-02f  1\n",
      "   3  5.7825919e+03 3.00e+00 7.08e+01  -1.0 1.18e+01  -1.1 3.58e-01 5.87e-02f  1\n",
      "   4  5.8075310e+03 3.00e+00 6.52e+01  -1.0 8.84e+00  -1.6 5.35e-01 7.18e-02h  3\n",
      "   5  7.7164137e+03 3.00e+00 3.68e+01  -1.0 4.82e+00  -2.1 3.72e-01 4.36e-01h  1\n",
      "   6  1.0166931e+04 3.00e+00 1.76e+01  -1.0 1.71e+00  -2.6 6.86e-01 5.31e-01h  1\n",
      "   7  1.0737500e+04 3.00e+00 1.96e+01  -1.0 4.41e+00  -3.1 9.96e-01 2.60e-01h  1\n",
      "   8  1.2409155e+04 3.00e+00 1.11e+00  -1.0 9.54e-01  -3.5 1.00e+00 1.00e+00h  1\n",
      "   9  1.2413846e+04 3.00e+00 2.36e-01  -1.0 1.35e-01  -4.0 1.00e+00 1.00e+00h  1\n",
      "iter    objective    inf_pr   inf_du lg(mu)  ||d||  lg(rg) alpha_du alpha_pr  ls\n",
      "  10  1.2413551e+04 3.00e+00 2.17e-03  -1.0 6.84e-03  -4.5 1.00e+00 1.00e+00h  1\n",
      "  11  1.2413543e+04 3.00e+00 4.51e-06  -1.0 3.20e-04  -5.0 1.00e+00 1.00e+00h  1\n",
      "  12r 1.2413543e+04 3.00e+00 9.99e+02   0.5 0.00e+00  -5.4 0.00e+00 4.77e-07R 22\n",
      "  13r 1.2537436e+04 3.00e+00 8.41e+02   0.5 1.06e+01    -  2.19e-01 1.58e-01f  1\n",
      "  14r 1.3047417e+04 3.00e+00 4.92e+02   0.5 1.64e+00    -  1.67e-01 4.16e-01f  1\n",
      "  15r 1.3810830e+04 3.00e+00 1.28e+02   0.5 1.83e+00    -  5.58e-01 7.40e-01f  1\n",
      "  16r 1.5639236e+04 3.00e+00 2.48e+01   0.5 1.63e+00    -  7.04e-01 1.00e+00f  1\n",
      "  17r 1.5009051e+04 3.00e+00 2.01e+00  -0.9 7.66e-01    -  8.77e-01 1.00e+00f  1\n",
      "  18r 1.4737233e+04 3.00e+00 1.76e-01  -1.6 4.55e-01    -  1.00e+00 1.00e+00f  1\n",
      "  19r 1.4085881e+04 3.00e+00 5.57e-02  -2.4 6.95e-01    -  1.00e+00 1.00e+00f  1\n",
      "iter    objective    inf_pr   inf_du lg(mu)  ||d||  lg(rg) alpha_du alpha_pr  ls\n",
      "  20r 1.3829367e+04 3.00e+00 1.38e-02  -2.4 3.91e-01    -  1.00e+00 1.00e+00h  1\n",
      "  21r 1.3154507e+04 3.00e+00 9.32e-03  -3.6 7.33e-01    -  9.56e-01 1.00e+00h  1\n",
      "  22r 1.3096822e+04 3.00e+00 7.76e-05  -3.6 1.26e-01    -  1.00e+00 1.00e+00h  1\n",
      "  23r 1.2755464e+04 3.00e+00 1.30e-03  -5.5 3.95e-01    -  9.56e-01 1.00e+00h  1\n",
      "  24r 1.2730223e+04 3.00e+00 3.98e-05  -5.5 4.40e-02    -  1.00e+00 1.00e+00h  1\n",
      "  25r 1.2629471e+04 3.00e+00 5.21e-07  -5.5 9.50e-02    -  1.00e+00 1.00e+00h  1\n",
      "  26r 1.2606473e+04 3.00e+00 5.68e-08  -5.5 2.20e-02    -  1.00e+00 1.00e+00h  1\n",
      "  27r 1.2504728e+04 3.00e+00 5.01e-05  -8.2 9.85e-02    -  9.49e-01 1.00e+00h  1\n",
      "  28r 1.2500951e+04 3.00e+00 2.94e-07  -8.2 3.85e-03    -  1.00e+00 1.00e+00h  1\n",
      "  29r 1.2461242e+04 3.00e+00 3.00e-09  -8.2 3.69e-02    -  1.00e+00 1.00e+00h  1\n",
      "iter    objective    inf_pr   inf_du lg(mu)  ||d||  lg(rg) alpha_du alpha_pr  ls\n",
      "  30r 1.2448049e+04 3.00e+00 8.60e-10  -8.2 1.25e-02    -  1.00e+00 1.00e+00h  1\n",
      "\n",
      "Number of Iterations....: 30\n",
      "\n",
      "                                   (scaled)                 (unscaled)\n",
      "Objective...............:   3.1115015973176321e+02    1.2446006389270528e+04\n",
      "Dual infeasibility......:   9.9999999210254472e+01    3.9999999684101790e+03\n",
      "Constraint violation....:   3.0000000000000000e+00    3.0000000000000000e+00\n",
      "Complementarity.........:   6.3334216547465782e-09    2.5333686618986310e-07\n",
      "Overall NLP error.......:   9.9999999210254472e+01    3.9999999684101790e+03\n",
      "\n",
      "\n",
      "Number of objective function evaluations             = 59\n",
      "Number of objective gradient evaluations             = 14\n",
      "Number of equality constraint evaluations            = 59\n",
      "Number of inequality constraint evaluations          = 59\n",
      "Number of equality constraint Jacobian evaluations   = 33\n",
      "Number of inequality constraint Jacobian evaluations = 33\n",
      "Number of Lagrangian Hessian evaluations             = 31\n",
      "Total CPU secs in IPOPT (w/o function evaluations)   =      0.020\n",
      "Total CPU secs in NLP function evaluations           =      0.001\n",
      "\n",
      "EXIT: Converged to a point of local infeasibility. Problem may be infeasible.\n"
     ]
    },
    {
     "data": {
      "text/plain": [
       "Dict{String, Any} with 8 entries:\n",
       "  \"solve_time\"         => 0.024055\n",
       "  \"optimizer\"          => \"Ipopt\"\n",
       "  \"termination_status\" => LOCALLY_INFEASIBLE\n",
       "  \"dual_status\"        => UNKNOWN_RESULT_STATUS\n",
       "  \"primal_status\"      => INFEASIBLE_POINT\n",
       "  \"objective\"          => 12446.0\n",
       "  \"solution\"           => Dict{String, Any}(\"baseMVA\"=>100.0, \"branch\"=>Dict{St…\n",
       "  \"objective_lb\"       => -Inf"
      ]
     },
     "metadata": {},
     "output_type": "display_data"
    }
   ],
   "source": [
    "# Experiment 2: disconnect graph\n",
    "net_exp2 = PM.parse_matpower(\"pglib/pglib_opf_case5_pjm.m\")\n",
    "net_exp2[\"branch\"][\"1\"][\"br_status\"] = 0\n",
    "net_exp2[\"branch\"][\"4\"][\"br_status\"] = 0\n",
    "pm2_default = PM.instantiate_model(net_exp2, PM.ACPPowerModel, PM.build_opf)\n",
    "result2_default = PM.optimize_model!(pm2_default, optimizer=Ipopt.Optimizer)\n",
    "result2_default"
   ]
  },
  {
   "cell_type": "code",
   "execution_count": 52,
   "id": "5ca33b65",
   "metadata": {},
   "outputs": [
    {
     "data": {
      "text/plain": [
       "Dict{String, Any} with 4 entries:\n",
       "  \"5\" => Dict{String, Any}(\"qf\"=>0.282071, \"qt\"=>-0.283919, \"pt\"=>0.332074, \"pf…\n",
       "  \"2\" => Dict{String, Any}(\"qf\"=>0.217922, \"qt\"=>-0.115812, \"pt\"=>-1.94318, \"pf…\n",
       "  \"6\" => Dict{String, Any}(\"qf\"=>0.114344, \"qt\"=>0.0376218, \"pt\"=>2.39089, \"pf\"…\n",
       "  \"3\" => Dict{String, Any}(\"qf\"=>0.973776, \"qt\"=>-0.980758, \"pt\"=>1.86987, \"pf\"…"
      ]
     },
     "metadata": {},
     "output_type": "display_data"
    }
   ],
   "source": [
    "result2_default[\"solution\"][\"branch\"]"
   ]
  },
  {
   "cell_type": "code",
   "execution_count": 53,
   "id": "353f45ae",
   "metadata": {},
   "outputs": [
    {
     "name": "stdout",
     "output_type": "stream",
     "text": [
      "\u001b[35m[warn | InfrastructureModels]: Model already contains optimizer, cannot use optimizer specified in `optimize_model!`\u001b[39m\n",
      "This is Ipopt version 3.13.4, running with linear solver mumps.\n",
      "NOTE: Other linear solvers might be more efficient (see Ipopt documentation).\n",
      "\n",
      "Number of nonzeros in equality constraint Jacobian...:      107\n",
      "Number of nonzeros in inequality constraint Jacobian.:       32\n",
      "Number of nonzeros in Lagrangian Hessian.............:      176\n",
      "\n",
      "Total number of variables............................:       36\n",
      "                     variables with only lower bounds:        0\n",
      "                variables with lower and upper bounds:       31\n",
      "                     variables with only upper bounds:        0\n",
      "Total number of equality constraints.................:       27\n",
      "Total number of inequality constraints...............:       16\n",
      "        inequality constraints with only lower bounds:        4\n",
      "   inequality constraints with lower and upper bounds:        0\n",
      "        inequality constraints with only upper bounds:       12\n",
      "\n",
      "iter    objective    inf_pr   inf_du lg(mu)  ||d||  lg(rg) alpha_du alpha_pr  ls\n",
      "   0  1.0059989e+02 3.99e+00 1.00e+02  -1.0 0.00e+00    -  0.00e+00 0.00e+00   0\n",
      "   1  7.5201837e+03 3.00e+00 7.83e+01  -1.0 2.21e+00  -2.0 5.53e-03 5.13e-01H  1\n",
      "   2  5.9982820e+03 3.00e+00 7.55e+01  -1.0 2.38e+01  -1.6 7.59e-02 3.53e-02f  1\n",
      "   3  5.7825919e+03 3.00e+00 7.08e+01  -1.0 1.18e+01  -1.1 3.58e-01 5.87e-02f  1\n",
      "   4  5.8075310e+03 3.00e+00 6.52e+01  -1.0 8.84e+00  -1.6 5.35e-01 7.18e-02h  3\n",
      "   5  7.7164137e+03 3.00e+00 3.68e+01  -1.0 4.82e+00  -2.1 3.72e-01 4.36e-01h  1\n",
      "   6  1.0166931e+04 3.00e+00 1.76e+01  -1.0 1.71e+00  -2.6 6.86e-01 5.31e-01h  1\n",
      "   7  1.0737500e+04 3.00e+00 1.96e+01  -1.0 4.41e+00  -3.1 9.96e-01 2.60e-01h  1\n",
      "   8  1.2409155e+04 3.00e+00 1.11e+00  -1.0 9.54e-01  -3.5 1.00e+00 1.00e+00h  1\n",
      "   9  1.2413846e+04 3.00e+00 2.36e-01  -1.0 1.35e-01  -4.0 1.00e+00 1.00e+00h  1\n",
      "iter    objective    inf_pr   inf_du lg(mu)  ||d||  lg(rg) alpha_du alpha_pr  ls\n",
      "  10  1.2413551e+04 3.00e+00 2.17e-03  -1.0 6.84e-03  -4.5 1.00e+00 1.00e+00h  1\n",
      "  11  1.2413543e+04 3.00e+00 4.51e-06  -1.0 3.20e-04  -5.0 1.00e+00 1.00e+00h  1\n",
      "  12r 1.2413543e+04 3.00e+00 9.99e+02   0.5 0.00e+00  -5.4 0.00e+00 4.77e-07R 22\n",
      "  13r 1.2537436e+04 3.00e+00 8.41e+02   0.5 1.06e+01    -  2.19e-01 1.58e-01f  1\n",
      "  14r 1.3047417e+04 3.00e+00 4.92e+02   0.5 1.64e+00    -  1.67e-01 4.16e-01f  1\n",
      "  15r 1.3810830e+04 3.00e+00 1.28e+02   0.5 1.83e+00    -  5.58e-01 7.40e-01f  1\n",
      "  16r 1.5639236e+04 3.00e+00 2.48e+01   0.5 1.63e+00    -  7.04e-01 1.00e+00f  1\n",
      "  17r 1.5009051e+04 3.00e+00 2.01e+00  -0.9 7.66e-01    -  8.77e-01 1.00e+00f  1\n",
      "  18r 1.4737233e+04 3.00e+00 1.76e-01  -1.6 4.55e-01    -  1.00e+00 1.00e+00f  1\n",
      "  19r 1.4085881e+04 3.00e+00 5.57e-02  -2.4 6.95e-01    -  1.00e+00 1.00e+00f  1\n",
      "iter    objective    inf_pr   inf_du lg(mu)  ||d||  lg(rg) alpha_du alpha_pr  ls\n",
      "  20r 1.3829367e+04 3.00e+00 1.38e-02  -2.4 3.91e-01    -  1.00e+00 1.00e+00h  1\n",
      "  21r 1.3154507e+04 3.00e+00 9.32e-03  -3.6 7.33e-01    -  9.56e-01 1.00e+00h  1\n",
      "  22r 1.3096822e+04 3.00e+00 7.76e-05  -3.6 1.26e-01    -  1.00e+00 1.00e+00h  1\n",
      "  23r 1.2755464e+04 3.00e+00 1.30e-03  -5.5 3.95e-01    -  9.56e-01 1.00e+00h  1\n",
      "  24r 1.2730223e+04 3.00e+00 3.98e-05  -5.5 4.40e-02    -  1.00e+00 1.00e+00h  1\n",
      "  25r 1.2629471e+04 3.00e+00 5.21e-07  -5.5 9.50e-02    -  1.00e+00 1.00e+00h  1\n",
      "  26r 1.2606473e+04 3.00e+00 5.68e-08  -5.5 2.20e-02    -  1.00e+00 1.00e+00h  1\n",
      "  27r 1.2504728e+04 3.00e+00 5.01e-05  -8.2 9.85e-02    -  9.49e-01 1.00e+00h  1\n",
      "  28r 1.2500951e+04 3.00e+00 2.94e-07  -8.2 3.85e-03    -  1.00e+00 1.00e+00h  1\n",
      "  29r 1.2461242e+04 3.00e+00 3.00e-09  -8.2 3.69e-02    -  1.00e+00 1.00e+00h  1\n",
      "iter    objective    inf_pr   inf_du lg(mu)  ||d||  lg(rg) alpha_du alpha_pr  ls\n",
      "  30r 1.2448049e+04 3.00e+00 8.60e-10  -8.2 1.25e-02    -  1.00e+00 1.00e+00h  1\n",
      "\n",
      "Number of Iterations....: 30\n",
      "\n",
      "                                   (scaled)                 (unscaled)\n",
      "Objective...............:   3.1115015973176321e+02    1.2446006389270528e+04\n",
      "Dual infeasibility......:   9.9999999210254472e+01    3.9999999684101790e+03\n",
      "Constraint violation....:   3.0000000000000000e+00    3.0000000000000000e+00\n",
      "Complementarity.........:   6.3334216547465782e-09    2.5333686618986310e-07\n",
      "Overall NLP error.......:   9.9999999210254472e+01    3.9999999684101790e+03\n",
      "\n",
      "\n",
      "Number of objective function evaluations             = 59\n",
      "Number of objective gradient evaluations             = 14\n",
      "Number of equality constraint evaluations            = 59\n",
      "Number of inequality constraint evaluations          = 59\n",
      "Number of equality constraint Jacobian evaluations   = 33\n",
      "Number of inequality constraint Jacobian evaluations = 33\n",
      "Number of Lagrangian Hessian evaluations             = 31\n",
      "Total CPU secs in IPOPT (w/o function evaluations)   =      0.020\n",
      "Total CPU secs in NLP function evaluations           =      0.001\n",
      "\n",
      "EXIT: Converged to a point of local infeasibility. Problem may be infeasible.\n"
     ]
    },
    {
     "data": {
      "text/plain": [
       "Dict{String, Any} with 8 entries:\n",
       "  \"solve_time\"         => 0.0232999\n",
       "  \"optimizer\"          => \"Ipopt\"\n",
       "  \"termination_status\" => LOCALLY_INFEASIBLE\n",
       "  \"dual_status\"        => UNKNOWN_RESULT_STATUS\n",
       "  \"primal_status\"      => INFEASIBLE_POINT\n",
       "  \"objective\"          => 12446.0\n",
       "  \"solution\"           => Dict{String, Any}(\"baseMVA\"=>100.0, \"branch\"=>Dict{St…\n",
       "  \"objective_lb\"       => -Inf"
      ]
     },
     "metadata": {},
     "output_type": "display_data"
    }
   ],
   "source": [
    "pm2_our = PM.instantiate_model(net_exp2, PM.ACPPowerModel, build_opf_power_flow_delta)\n",
    "result2_our = PM.optimize_model!(pm2_default, optimizer=Ipopt.Optimizer)\n",
    "result2_our"
   ]
  },
  {
   "cell_type": "code",
   "execution_count": 54,
   "id": "f6be2e0f",
   "metadata": {},
   "outputs": [
    {
     "data": {
      "text/plain": [
       "Dict{String, Any} with 4 entries:\n",
       "  \"5\" => Dict{String, Any}(\"qf\"=>0.282071, \"qt\"=>-0.283919, \"pt\"=>0.332074, \"pf…\n",
       "  \"2\" => Dict{String, Any}(\"qf\"=>0.217922, \"qt\"=>-0.115812, \"pt\"=>-1.94318, \"pf…\n",
       "  \"6\" => Dict{String, Any}(\"qf\"=>0.114344, \"qt\"=>0.0376218, \"pt\"=>2.39089, \"pf\"…\n",
       "  \"3\" => Dict{String, Any}(\"qf\"=>0.973776, \"qt\"=>-0.980758, \"pt\"=>1.86987, \"pf\"…"
      ]
     },
     "metadata": {},
     "output_type": "display_data"
    }
   ],
   "source": [
    "result2_our[\"solution\"][\"branch\"]"
   ]
  },
  {
   "cell_type": "code",
   "execution_count": 55,
   "id": "17a8ce1e",
   "metadata": {},
   "outputs": [
    {
     "name": "stdout",
     "output_type": "stream",
     "text": [
      "\u001b[32m[info | PowerModels]: removing 3 cost terms from generator 4: Float64[]\u001b[39m\n",
      "\u001b[32m[info | PowerModels]: removing 1 cost terms from generator 1: [792.0951, 0.0]\u001b[39m\n",
      "\u001b[32m[info | PowerModels]: removing 3 cost terms from generator 5: Float64[]\u001b[39m\n",
      "\u001b[32m[info | PowerModels]: removing 1 cost terms from generator 2: [2326.9494, 0.0]\u001b[39m\n",
      "\u001b[32m[info | PowerModels]: removing 3 cost terms from generator 3: Float64[]\u001b[39m\n",
      "This is Ipopt version 3.13.4, running with linear solver mumps.\n",
      "NOTE: Other linear solvers might be more efficient (see Ipopt documentation).\n",
      "\n",
      "Number of nonzeros in equality constraint Jacobian...:      488\n",
      "Number of nonzeros in inequality constraint Jacobian.:      160\n",
      "Number of nonzeros in Lagrangian Hessian.............:      881\n",
      "\n",
      "Total number of variables............................:      114\n",
      "                     variables with only lower bounds:        0\n",
      "                variables with lower and upper bounds:      100\n",
      "                     variables with only upper bounds:        0\n",
      "Total number of equality constraints.................:      109\n",
      "Total number of inequality constraints...............:       80\n",
      "        inequality constraints with only lower bounds:       20\n",
      "   inequality constraints with lower and upper bounds:        0\n",
      "        inequality constraints with only upper bounds:       60\n",
      "\n",
      "iter    objective    inf_pr   inf_du lg(mu)  ||d||  lg(rg) alpha_du alpha_pr  ls\n",
      "   0  2.1649922e+01 9.42e-01 1.88e+01  -1.0 0.00e+00    -  0.00e+00 0.00e+00   0\n",
      "   1  2.4463721e+03 2.50e-01 1.33e+02  -1.0 1.81e+00    -  5.61e-03 7.34e-01H  1\n",
      "   2  2.4110655e+03 7.52e-02 3.98e+01  -1.0 1.76e+00    -  1.74e-02 7.00e-01f  1\n",
      "   3  2.0268241e+03 7.29e-02 3.76e+01  -1.0 2.36e+01    -  1.67e-01 3.04e-02f  1\n",
      "   4  1.9976797e+03 7.00e-02 3.61e+01  -1.0 3.01e+00    -  9.11e-01 3.95e-02f  1\n",
      "   5  2.1600823e+03 8.68e-03 5.53e+00  -1.0 1.05e+00    -  1.00e+00 8.76e-01h  1\n",
      "   6  2.1862122e+03 8.38e-04 3.47e-01  -1.0 1.68e-01    -  1.00e+00 1.00e+00h  1\n",
      "   7  2.1831550e+03 9.20e-05 1.76e+00  -1.7 1.47e-02    -  8.74e-01 1.00e+00h  1\n",
      "   8  2.1806545e+03 5.12e-04 6.39e-02  -1.7 3.29e-02    -  1.00e+00 1.00e+00f  1\n",
      "   9  2.1797528e+03 1.88e-04 1.81e+00  -2.5 1.08e-02    -  9.53e-01 6.95e-01h  1\n",
      "iter    objective    inf_pr   inf_du lg(mu)  ||d||  lg(rg) alpha_du alpha_pr  ls\n",
      "  10  2.1797400e+03 9.15e-07 9.95e-03  -2.5 1.53e-03    -  1.00e+00 1.00e+00f  1\n",
      "  11  2.1795721e+03 8.05e-07 7.67e-02  -3.8 5.98e-04    -  9.08e-01 9.49e-01f  1\n",
      "  12  2.1795354e+03 1.45e-06 7.69e-04  -3.8 6.81e-03    -  1.00e+00 1.00e+00f  1\n",
      "  13  2.1795261e+03 2.66e-08 5.83e-03  -5.7 7.60e-04    -  9.40e-01 1.00e+00h  1\n",
      "  14  2.1795255e+03 8.12e-08 3.42e-06  -5.7 1.06e-03    -  1.00e+00 1.00e+00h  1\n",
      "  15  2.1795253e+03 1.32e-08 4.23e-05  -8.6 4.29e-04    -  9.72e-01 1.00e+00h  1\n",
      "  16  2.1795253e+03 3.09e-10 2.95e-08  -8.6 6.61e-05    -  1.00e+00 1.00e+00h  1\n",
      "  17  2.1795253e+03 2.17e-13 2.13e-11  -8.6 1.76e-06    -  1.00e+00 1.00e+00h  1\n",
      "\n",
      "Number of Iterations....: 17\n",
      "\n",
      "                                   (scaled)                 (unscaled)\n",
      "Objective...............:   9.3664489358350039e+01    2.1795252731371902e+03\n",
      "Dual infeasibility......:   2.1347928301052308e-11    4.9675548951376692e-10\n",
      "Constraint violation....:   2.1722901255571969e-13    2.1722901255571969e-13\n",
      "Complementarity.........:   2.5148731603208253e-09    5.8519825914846489e-08\n",
      "Overall NLP error.......:   2.5148731603208253e-09    5.8519825914846489e-08\n",
      "\n",
      "\n",
      "Number of objective function evaluations             = 19\n",
      "Number of objective gradient evaluations             = 18\n",
      "Number of equality constraint evaluations            = 19\n",
      "Number of inequality constraint evaluations          = 19\n",
      "Number of equality constraint Jacobian evaluations   = 18\n",
      "Number of inequality constraint Jacobian evaluations = 18\n",
      "Number of Lagrangian Hessian evaluations             = 17\n",
      "Total CPU secs in IPOPT (w/o function evaluations)   =      0.016\n",
      "Total CPU secs in NLP function evaluations           =      0.003\n",
      "\n",
      "EXIT: Optimal Solution Found.\n"
     ]
    },
    {
     "data": {
      "text/plain": [
       "Dict{String, Any} with 8 entries:\n",
       "  \"solve_time\"         => 0.021179\n",
       "  \"optimizer\"          => \"Ipopt\"\n",
       "  \"termination_status\" => LOCALLY_SOLVED\n",
       "  \"dual_status\"        => FEASIBLE_POINT\n",
       "  \"primal_status\"      => FEASIBLE_POINT\n",
       "  \"objective\"          => 2179.53\n",
       "  \"solution\"           => Dict{String, Any}(\"baseMVA\"=>100.0, \"branch\"=>Dict{St…\n",
       "  \"objective_lb\"       => -Inf"
      ]
     },
     "metadata": {},
     "output_type": "display_data"
    }
   ],
   "source": [
    "# Experiment # 3: what happens when you get rid of all gens?\n",
    "net_exp3 = PM.parse_matpower(\"pglib/pglib_opf_case14_ieee.m\")\n",
    "net_exp3[\"gen\"][\"4\"][\"gen_status\"] = 0\n",
    "pm3_default = PM.instantiate_model(net_exp3, PM.ACPPowerModel, PM.build_opf)\n",
    "result3_default = PM.optimize_model!(pm3_default, optimizer=Ipopt.Optimizer)\n",
    "result3_default"
   ]
  },
  {
   "cell_type": "code",
   "execution_count": 56,
   "id": "2e177f90",
   "metadata": {},
   "outputs": [
    {
     "data": {
      "text/plain": [
       "Dict{String, Any} with 8 entries:\n",
       "  \"solve_time\"         => 0.021179\n",
       "  \"optimizer\"          => \"Ipopt\"\n",
       "  \"termination_status\" => LOCALLY_SOLVED\n",
       "  \"dual_status\"        => FEASIBLE_POINT\n",
       "  \"primal_status\"      => FEASIBLE_POINT\n",
       "  \"objective\"          => 2179.53\n",
       "  \"solution\"           => Dict{String, Any}(\"baseMVA\"=>100.0, \"branch\"=>Dict{St…\n",
       "  \"objective_lb\"       => -Inf"
      ]
     },
     "metadata": {},
     "output_type": "display_data"
    }
   ],
   "source": [
    "result3_default"
   ]
  }
 ],
 "metadata": {
  "kernelspec": {
   "display_name": "Julia 1.9.4",
   "language": "julia",
   "name": "julia-1.9"
  },
  "language_info": {
   "file_extension": ".jl",
   "mimetype": "application/julia",
   "name": "julia",
   "version": "1.9.4"
  }
 },
 "nbformat": 4,
 "nbformat_minor": 5
}
