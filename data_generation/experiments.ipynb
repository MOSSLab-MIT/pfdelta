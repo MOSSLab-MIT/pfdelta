{
 "cells": [
  {
   "cell_type": "code",
   "execution_count": 1,
   "id": "52614de1",
   "metadata": {},
   "outputs": [
    {
     "name": "stderr",
     "output_type": "stream",
     "text": [
      "\u001b[32m\u001b[1m  Activating\u001b[22m\u001b[39m project at `c:\\Users\\Ana's PC\\Documents\\Projects\\pfdelta\\data_generation`\n"
     ]
    }
   ],
   "source": [
    "using Pkg\n",
    "Pkg.activate(\".\")"
   ]
  },
  {
   "cell_type": "code",
   "execution_count": 2,
   "id": "a0a512ab",
   "metadata": {},
   "outputs": [
    {
     "data": {
      "text/plain": [
       "variable_branch_power_pfdelta (generic function with 1 method)"
      ]
     },
     "metadata": {},
     "output_type": "display_data"
    }
   ],
   "source": [
    "import PowerModels\n",
    "import PowerModels: ref, var, ids\n",
    "const PM = PowerModels\n",
    "import JuMP\n",
    "import Ipopt\n",
    "include(\"src/build_opf_pfdelta.jl\")"
   ]
  },
  {
   "cell_type": "code",
   "execution_count": 3,
   "id": "1de6fc34",
   "metadata": {},
   "outputs": [
    {
     "name": "stdout",
     "output_type": "stream",
     "text": [
      "\u001b[32m[info | PowerModels]: extending matpower format with data: areas 1x3\u001b[39m\n",
      "\u001b[32m[info | PowerModels]: removing 1 cost terms from generator 4: [4000.0, 0.0]\u001b[39m\n",
      "\u001b[32m[info | PowerModels]: removing 1 cost terms from generator 1: [1400.0, 0.0]\u001b[39m\n",
      "\u001b[32m[info | PowerModels]: removing 1 cost terms from generator 5: [1000.0, 0.0]\u001b[39m\n",
      "\u001b[32m[info | PowerModels]: removing 1 cost terms from generator 2: [1500.0, 0.0]\u001b[39m\n",
      "\u001b[32m[info | PowerModels]: removing 1 cost terms from generator 3: [3000.0, 0.0]\u001b[39m\n"
     ]
    },
    {
     "data": {
      "text/plain": [
       "Dict{String, Any} with 14 entries:\n",
       "  \"bus\"            => Dict{String, Any}(\"4\"=>Dict{String, Any}(\"zone\"=>1, \"bus_…\n",
       "  \"source_type\"    => \"matpower\"\n",
       "  \"name\"           => \"pglib_opf_case5_pjm\"\n",
       "  \"dcline\"         => Dict{String, Any}()\n",
       "  \"source_version\" => \"2\"\n",
       "  \"gen\"            => Dict{String, Any}(\"4\"=>Dict{String, Any}(\"vg\"=>1.0, \"mbas…\n",
       "  \"branch\"         => Dict{String, Any}(\"4\"=>Dict{String, Any}(\"br_r\"=>0.00108,…\n",
       "  \"storage\"        => Dict{String, Any}()\n",
       "  \"switch\"         => Dict{String, Any}()\n",
       "  \"baseMVA\"        => 100.0\n",
       "  \"per_unit\"       => true\n",
       "  \"areas\"          => Dict{String, Any}(\"1\"=>Dict{String, Any}(\"source_id\"=>Any…\n",
       "  \"shunt\"          => Dict{String, Any}()\n",
       "  \"load\"           => Dict{String, Any}(\"1\"=>Dict{String, Any}(\"source_id\"=>Any…"
      ]
     },
     "metadata": {},
     "output_type": "display_data"
    }
   ],
   "source": [
    "net = PM.parse_matpower(\"pglib/pglib_opf_case5_pjm.m\")"
   ]
  },
  {
   "cell_type": "code",
   "execution_count": 4,
   "id": "1a11279e",
   "metadata": {},
   "outputs": [
    {
     "name": "stdout",
     "output_type": "stream",
     "text": [
      "Min 1000 0_pg[5] + 4000 0_pg[4] + 1500 0_pg[2] + 3000 0_pg[3] + 1400 0_pg[1]\n",
      "Subject to\n",
      " 0_va[4] == 0.0\n",
      " -0_pg[5] + 0_p[(6, 5, 4)] + 0_p[(3, 5, 1)] == 0.0\n",
      " -0_qg[5] + 0_q[(6, 5, 4)] + 0_q[(3, 5, 1)] == 0.0\n",
      " -0_pg[4] + 0_p[(6, 4, 5)] + 0_p[(5, 4, 3)] + 0_p[(2, 4, 1)] == -4.0\n",
      " -0_qg[4] + 0_q[(6, 4, 5)] + 0_q[(5, 4, 3)] + 0_q[(2, 4, 1)] == -1.3147\n",
      " 0_p[(4, 2, 3)] + 0_p[(1, 2, 1)] == -3.0\n",
      " 0_q[(4, 2, 3)] + 0_q[(1, 2, 1)] == -0.9861\n",
      " -0_pg[3] + 0_p[(5, 3, 4)] + 0_p[(4, 3, 2)] == -3.0\n",
      " -0_qg[3] + 0_q[(5, 3, 4)] + 0_q[(4, 3, 2)] == -0.9861\n",
      " -0_pg[2] - 0_pg[1] + 0_p[(2, 1, 4)] + 0_p[(3, 1, 5)] + 0_p[(1, 1, 2)] == 0.0\n",
      " -0_qg[2] - 0_qg[1] + 0_q[(2, 1, 4)] + 0_q[(3, 1, 5)] + 0_q[(1, 1, 2)] == 0.0\n",
      " 0_vm[5] >= 0.9\n",
      " 0_vm[4] >= 0.9\n",
      " 0_vm[3] >= 0.9\n",
      " 0_vm[1] >= 0.9\n",
      " 0_pg[5] >= 6.0\n",
      " 0_pg[2] >= 1.7\n",
      " 0_pg[3] >= 5.2\n",
      " 0_pg[1] >= 0.4\n",
      " 0_vm[5] <= 1.1\n",
      " 0_vm[4] <= 1.1\n",
      " 0_vm[3] <= 1.1\n",
      " 0_vm[1] <= 1.1\n",
      " 0_p[(5, 3, 4)] - (((3.3336667000033335 + 0.0) / 1.0 ^ 2.0) * 0_vm[3] ^ 2.0 + ((-3.3336667000033335 * 1.0 + -33.33666700003334 * 0.0) / 1.0 ^ 2.0) * (0_vm[3] * 0_vm[4] * cos(0_va[3] - 0_va[4])) + ((--33.33666700003334 * 1.0 - 3.3336667000033335 * 0.0) / 1.0 ^ 2.0) * (0_vm[3] * 0_vm[4] * sin(0_va[3] - 0_va[4]))) == 0\n",
      " 0_q[(5, 3, 4)] - (((-((-33.33666700003334 + 0.00337)) / 1.0 ^ 2.0) * 0_vm[3] ^ 2.0 - ((--33.33666700003334 * 1.0 - 3.3336667000033335 * 0.0) / 1.0 ^ 2.0) * (0_vm[3] * 0_vm[4] * cos(0_va[3] - 0_va[4]))) + ((-3.3336667000033335 * 1.0 + -33.33666700003334 * 0.0) / 1.0 ^ 2.0) * (0_vm[3] * 0_vm[4] * sin(0_va[3] - 0_va[4]))) == 0\n",
      " 0_p[(5, 4, 3)] - ((3.3336667000033335 + 0.0) * 0_vm[4] ^ 2.0 + ((-3.3336667000033335 * 1.0 - -33.33666700003334 * 0.0) / 1.0 ^ 2.0) * (0_vm[4] * 0_vm[3] * cos(0_va[4] - 0_va[3])) + ((--33.33666700003334 * 1.0 + 3.3336667000033335 * 0.0) / 1.0 ^ 2.0) * (0_vm[4] * 0_vm[3] * sin(0_va[4] - 0_va[3]))) == 0\n",
      " 0_q[(5, 4, 3)] - ((-((-33.33666700003334 + 0.00337)) * 0_vm[4] ^ 2.0 - ((--33.33666700003334 * 1.0 + 3.3336667000033335 * 0.0) / 1.0 ^ 2.0) * (0_vm[4] * 0_vm[3] * cos(0_va[4] - 0_va[3]))) + ((-3.3336667000033335 * 1.0 - -33.33666700003334 * 0.0) / 1.0 ^ 2.0) * (0_vm[4] * 0_vm[3] * sin(0_va[4] - 0_va[3]))) == 0\n",
      " 0_p[(4, 2, 3)] - (((9.167583425009166 + 0.0) / 1.0 ^ 2.0) * 0_vm[2] ^ 2.0 + ((-9.167583425009166 * 1.0 + -91.67583425009167 * 0.0) / 1.0 ^ 2.0) * (0_vm[2] * 0_vm[3] * cos(0_va[2] - 0_va[3])) + ((--91.67583425009167 * 1.0 - 9.167583425009166 * 0.0) / 1.0 ^ 2.0) * (0_vm[2] * 0_vm[3] * sin(0_va[2] - 0_va[3]))) == 0\n",
      " 0_q[(4, 2, 3)] - (((-((-91.67583425009167 + 0.00926)) / 1.0 ^ 2.0) * 0_vm[2] ^ 2.0 - ((--91.67583425009167 * 1.0 - 9.167583425009166 * 0.0) / 1.0 ^ 2.0) * (0_vm[2] * 0_vm[3] * cos(0_va[2] - 0_va[3]))) + ((-9.167583425009166 * 1.0 + -91.67583425009167 * 0.0) / 1.0 ^ 2.0) * (0_vm[2] * 0_vm[3] * sin(0_va[2] - 0_va[3]))) == 0\n",
      " 0_p[(4, 3, 2)] - ((9.167583425009166 + 0.0) * 0_vm[3] ^ 2.0 + ((-9.167583425009166 * 1.0 - -91.67583425009167 * 0.0) / 1.0 ^ 2.0) * (0_vm[3] * 0_vm[2] * cos(0_va[3] - 0_va[2])) + ((--91.67583425009167 * 1.0 + 9.167583425009166 * 0.0) / 1.0 ^ 2.0) * (0_vm[3] * 0_vm[2] * sin(0_va[3] - 0_va[2]))) == 0\n",
      " 0_q[(4, 3, 2)] - ((-((-91.67583425009167 + 0.00926)) * 0_vm[3] ^ 2.0 - ((--91.67583425009167 * 1.0 + 9.167583425009166 * 0.0) / 1.0 ^ 2.0) * (0_vm[3] * 0_vm[2] * cos(0_va[3] - 0_va[2]))) + ((-9.167583425009166 * 1.0 - -91.67583425009167 * 0.0) / 1.0 ^ 2.0) * (0_vm[3] * 0_vm[2] * sin(0_va[3] - 0_va[2]))) == 0\n",
      " 0_p[(6, 4, 5)] - (((3.3336667000033335 + 0.0) / 1.0 ^ 2.0) * 0_vm[4] ^ 2.0 + ((-3.3336667000033335 * 1.0 + -33.33666700003334 * 0.0) / 1.0 ^ 2.0) * (0_vm[4] * 0_vm[5] * cos(0_va[4] - 0_va[5])) + ((--33.33666700003334 * 1.0 - 3.3336667000033335 * 0.0) / 1.0 ^ 2.0) * (0_vm[4] * 0_vm[5] * sin(0_va[4] - 0_va[5]))) == 0\n",
      " 0_q[(6, 4, 5)] - (((-((-33.33666700003334 + 0.00337)) / 1.0 ^ 2.0) * 0_vm[4] ^ 2.0 - ((--33.33666700003334 * 1.0 - 3.3336667000033335 * 0.0) / 1.0 ^ 2.0) * (0_vm[4] * 0_vm[5] * cos(0_va[4] - 0_va[5]))) + ((-3.3336667000033335 * 1.0 + -33.33666700003334 * 0.0) / 1.0 ^ 2.0) * (0_vm[4] * 0_vm[5] * sin(0_va[4] - 0_va[5]))) == 0\n",
      " 0_p[(6, 5, 4)] - ((3.3336667000033335 + 0.0) * 0_vm[5] ^ 2.0 + ((-3.3336667000033335 * 1.0 - -33.33666700003334 * 0.0) / 1.0 ^ 2.0) * (0_vm[5] * 0_vm[4] * cos(0_va[5] - 0_va[4])) + ((--33.33666700003334 * 1.0 + 3.3336667000033335 * 0.0) / 1.0 ^ 2.0) * (0_vm[5] * 0_vm[4] * sin(0_va[5] - 0_va[4]))) == 0\n",
      " 0_q[(6, 5, 4)] - ((-((-33.33666700003334 + 0.00337)) * 0_vm[5] ^ 2.0 - ((--33.33666700003334 * 1.0 + 3.3336667000033335 * 0.0) / 1.0 ^ 2.0) * (0_vm[5] * 0_vm[4] * cos(0_va[5] - 0_va[4]))) + ((-3.3336667000033335 * 1.0 - -33.33666700003334 * 0.0) / 1.0 ^ 2.0) * (0_vm[5] * 0_vm[4] * sin(0_va[5] - 0_va[4]))) == 0\n",
      " 0_p[(2, 1, 4)] - (((3.2569046378322044 + 0.0) / 1.0 ^ 2.0) * 0_vm[1] ^ 2.0 + ((-3.2569046378322044 * 1.0 + -32.56904637832204 * 0.0) / 1.0 ^ 2.0) * (0_vm[1] * 0_vm[4] * cos(0_va[1] - 0_va[4])) + ((--32.56904637832204 * 1.0 - 3.2569046378322044 * 0.0) / 1.0 ^ 2.0) * (0_vm[1] * 0_vm[4] * sin(0_va[1] - 0_va[4]))) == 0\n",
      " 0_q[(2, 1, 4)] - (((-((-32.56904637832204 + 0.00329)) / 1.0 ^ 2.0) * 0_vm[1] ^ 2.0 - ((--32.56904637832204 * 1.0 - 3.2569046378322044 * 0.0) / 1.0 ^ 2.0) * (0_vm[1] * 0_vm[4] * cos(0_va[1] - 0_va[4]))) + ((-3.2569046378322044 * 1.0 + -32.56904637832204 * 0.0) / 1.0 ^ 2.0) * (0_vm[1] * 0_vm[4] * sin(0_va[1] - 0_va[4]))) == 0\n",
      " 0_p[(2, 4, 1)] - ((3.2569046378322044 + 0.0) * 0_vm[4] ^ 2.0 + ((-3.2569046378322044 * 1.0 - -32.56904637832204 * 0.0) / 1.0 ^ 2.0) * (0_vm[4] * 0_vm[1] * cos(0_va[4] - 0_va[1])) + ((--32.56904637832204 * 1.0 + 3.2569046378322044 * 0.0) / 1.0 ^ 2.0) * (0_vm[4] * 0_vm[1] * sin(0_va[4] - 0_va[1]))) == 0\n",
      " 0_q[(2, 4, 1)] - ((-((-32.56904637832204 + 0.00329)) * 0_vm[4] ^ 2.0 - ((--32.56904637832204 * 1.0 + 3.2569046378322044 * 0.0) / 1.0 ^ 2.0) * (0_vm[4] * 0_vm[1] * cos(0_va[4] - 0_va[1]))) + ((-3.2569046378322044 * 1.0 - -32.56904637832204 * 0.0) / 1.0 ^ 2.0) * (0_vm[4] * 0_vm[1] * sin(0_va[4] - 0_va[1]))) == 0\n",
      " 0_p[(3, 1, 5)] - (((15.47029702970297 + 0.0) / 1.0 ^ 2.0) * 0_vm[1] ^ 2.0 + ((-15.47029702970297 * 1.0 + -154.70297029702968 * 0.0) / 1.0 ^ 2.0) * (0_vm[1] * 0_vm[5] * cos(0_va[1] - 0_va[5])) + ((--154.70297029702968 * 1.0 - 15.47029702970297 * 0.0) / 1.0 ^ 2.0) * (0_vm[1] * 0_vm[5] * sin(0_va[1] - 0_va[5]))) == 0\n",
      " 0_q[(3, 1, 5)] - (((-((-154.70297029702968 + 0.01563)) / 1.0 ^ 2.0) * 0_vm[1] ^ 2.0 - ((--154.70297029702968 * 1.0 - 15.47029702970297 * 0.0) / 1.0 ^ 2.0) * (0_vm[1] * 0_vm[5] * cos(0_va[1] - 0_va[5]))) + ((-15.47029702970297 * 1.0 + -154.70297029702968 * 0.0) / 1.0 ^ 2.0) * (0_vm[1] * 0_vm[5] * sin(0_va[1] - 0_va[5]))) == 0\n",
      " 0_p[(3, 5, 1)] - ((15.47029702970297 + 0.0) * 0_vm[5] ^ 2.0 + ((-15.47029702970297 * 1.0 - -154.70297029702968 * 0.0) / 1.0 ^ 2.0) * (0_vm[5] * 0_vm[1] * cos(0_va[5] - 0_va[1])) + ((--154.70297029702968 * 1.0 + 15.47029702970297 * 0.0) / 1.0 ^ 2.0) * (0_vm[5] * 0_vm[1] * sin(0_va[5] - 0_va[1]))) == 0\n",
      " 0_q[(3, 5, 1)] - ((-((-154.70297029702968 + 0.01563)) * 0_vm[5] ^ 2.0 - ((--154.70297029702968 * 1.0 + 15.47029702970297 * 0.0) / 1.0 ^ 2.0) * (0_vm[5] * 0_vm[1] * cos(0_va[5] - 0_va[1]))) + ((-15.47029702970297 * 1.0 - -154.70297029702968 * 0.0) / 1.0 ^ 2.0) * (0_vm[5] * 0_vm[1] * sin(0_va[5] - 0_va[1]))) == 0\n",
      " 0_p[(1, 1, 2)] - (((3.5234840209999647 + 0.0) / 1.0 ^ 2.0) * 0_vm[1] ^ 2.0 + ((-3.5234840209999647 * 1.0 + -35.234840209999646 * 0.0) / 1.0 ^ 2.0) * (0_vm[1] * 0_vm[2] * cos(0_va[1] - 0_va[2])) + ((--35.234840209999646 * 1.0 - 3.5234840209999647 * 0.0) / 1.0 ^ 2.0) * (0_vm[1] * 0_vm[2] * sin(0_va[1] - 0_va[2]))) == 0\n",
      " 0_q[(1, 1, 2)] - (((-((-35.234840209999646 + 0.00356)) / 1.0 ^ 2.0) * 0_vm[1] ^ 2.0 - ((--35.234840209999646 * 1.0 - 3.5234840209999647 * 0.0) / 1.0 ^ 2.0) * (0_vm[1] * 0_vm[2] * cos(0_va[1] - 0_va[2]))) + ((-3.5234840209999647 * 1.0 + -35.234840209999646 * 0.0) / 1.0 ^ 2.0) * (0_vm[1] * 0_vm[2] * sin(0_va[1] - 0_va[2]))) == 0\n",
      " 0_p[(1, 2, 1)] - ((3.5234840209999647 + 0.0) * 0_vm[2] ^ 2.0 + ((-3.5234840209999647 * 1.0 - -35.234840209999646 * 0.0) / 1.0 ^ 2.0) * (0_vm[2] * 0_vm[1] * cos(0_va[2] - 0_va[1])) + ((--35.234840209999646 * 1.0 + 3.5234840209999647 * 0.0) / 1.0 ^ 2.0) * (0_vm[2] * 0_vm[1] * sin(0_va[2] - 0_va[1]))) == 0\n",
      " 0_q[(1, 2, 1)] - ((-((-35.234840209999646 + 0.00356)) * 0_vm[2] ^ 2.0 - ((--35.234840209999646 * 1.0 + 3.5234840209999647 * 0.0) / 1.0 ^ 2.0) * (0_vm[2] * 0_vm[1] * cos(0_va[2] - 0_va[1]))) + ((-3.5234840209999647 * 1.0 - -35.234840209999646 * 0.0) / 1.0 ^ 2.0) * (0_vm[2] * 0_vm[1] * sin(0_va[2] - 0_va[1]))) == 0\n"
     ]
    }
   ],
   "source": [
    "pm = PM.instantiate_model(net, PM.ACPPowerModel, build_opf_power_flow_delta)\n",
    "print(pm.model)"
   ]
  },
  {
   "cell_type": "code",
   "execution_count": 5,
   "id": "9e7584f1",
   "metadata": {},
   "outputs": [
    {
     "name": "stdout",
     "output_type": "stream",
     "text": [
      "\n",
      "******************************************************************************\n",
      "This program contains Ipopt, a library for large-scale nonlinear optimization.\n",
      " Ipopt is released as open source code under the Eclipse Public License (EPL).\n",
      "         For more information visit https://github.com/coin-or/Ipopt\n",
      "******************************************************************************\n",
      "\n",
      "This is Ipopt version 3.13.4, running with linear solver mumps.\n",
      "NOTE: Other linear solvers might be more efficient (see Ipopt documentation).\n",
      "\n",
      "Number of nonzeros in equality constraint Jacobian...:      155\n",
      "Number of nonzeros in inequality constraint Jacobian.:        0\n",
      "Number of nonzeros in Lagrangian Hessian.............:      240\n",
      "\n",
      "Total number of variables............................:       44\n",
      "                     variables with only lower bounds:        4\n",
      "                variables with lower and upper bounds:        4\n",
      "                     variables with only upper bounds:        0\n",
      "Total number of equality constraints.................:       35\n",
      "Total number of inequality constraints...............:        0\n",
      "        inequality constraints with only lower bounds:        0\n",
      "   inequality constraints with lower and upper bounds:        0\n",
      "        inequality constraints with only upper bounds:        0\n",
      "\n",
      "iter    objective    inf_pr   inf_du lg(mu)  ||d||  lg(rg) alpha_du alpha_pr  ls\n",
      "   0  2.4965500e+04 6.06e+00 2.93e+01  -1.0 0.00e+00    -  0.00e+00 0.00e+00   0\n",
      "   1 -8.2797941e+03 6.34e-01 1.29e+02  -1.0 1.11e+01  -4.0 1.34e-02 1.00e+00f  1\n",
      "   2 -1.3337605e+04 6.32e-01 1.26e+02  -1.0 7.23e+02  -4.5 2.72e-03 2.47e-03f  1\n",
      "   3 -1.5035143e+04 6.32e-01 1.26e+02  -1.0 2.97e+02  -5.0 2.29e-02 1.96e-03f  1\n",
      "   4 -1.0576189e+05 3.40e+00 1.45e+02  -1.0 2.95e+02  -5.4 1.40e-02 1.06e-01f  1\n",
      "   5 -1.0713792e+05 3.39e+00 4.92e+02  -1.0 2.40e+02  -5.9 2.24e-01 2.06e-03f  1\n",
      "   6 -1.2989370e+05 3.49e+00 1.01e+03  -1.0 2.10e+02    -  4.41e-01 3.88e-02f  1\n",
      "   7 -2.5963385e+05 9.33e+00 1.27e+03  -1.0 1.68e+02  -6.4 1.00e+00 2.81e-01f  1\n",
      "   8 -2.5266044e+05 6.63e+00 1.60e+03  -1.0 5.50e+01    -  1.00e+00 4.09e-01h  1\n",
      "   9 -2.5213879e+05 6.52e+00 1.88e+03  -1.0 1.41e+01  -6.9 1.00e+00 1.62e-02h  1\n",
      "iter    objective    inf_pr   inf_du lg(mu)  ||d||  lg(rg) alpha_du alpha_pr  ls\n",
      "  10 -2.2255714e+05 7.46e-01 1.98e+02  -1.0 1.30e+01  -7.3 1.00e+00 8.92e-01h  1\n",
      "  11 -2.1862791e+05 4.68e-03 3.12e+00  -1.0 1.33e+00  -7.8 1.00e+00 1.00e+00h  1\n",
      "  12 -2.1860547e+05 5.64e-06 6.74e-04  -1.0 4.29e-02  -8.3 1.00e+00 1.00e+00h  1\n",
      "  13 -2.1863334e+05 1.02e-05 4.73e-04  -3.8 6.45e-02  -8.8 1.00e+00 1.00e+00f  1\n",
      "  14 -2.1863341e+05 7.12e-10 3.92e-08  -5.7 3.34e-04  -9.2 1.00e+00 1.00e+00h  1\n",
      "  15 -2.1863341e+05 3.20e-14 9.66e-13  -8.6 1.21e-06  -9.7 1.00e+00 1.00e+00h  1\n",
      "\n",
      "Number of Iterations....: 15\n",
      "\n",
      "                                   (scaled)                 (unscaled)\n",
      "Objective...............:  -5.4658353552634053e+03   -2.1863341421053620e+05\n",
      "Dual infeasibility......:   9.6633812063373625e-13    3.8653524825349450e-11\n",
      "Constraint violation....:   3.1974423109204508e-14    3.1974423109204508e-14\n",
      "Complementarity.........:   2.5062277617630129e-09    1.0024911047052052e-07\n",
      "Overall NLP error.......:   2.6213534928807279e-10    1.0024911047052052e-07\n",
      "\n",
      "\n",
      "Number of objective function evaluations             = 16\n",
      "Number of objective gradient evaluations             = 16\n",
      "Number of equality constraint evaluations            = 16\n",
      "Number of inequality constraint evaluations          = 0\n",
      "Number of equality constraint Jacobian evaluations   = 16\n",
      "Number of inequality constraint Jacobian evaluations = 0\n",
      "Number of Lagrangian Hessian evaluations             = 15\n",
      "Total CPU secs in IPOPT (w/o function evaluations)   =      0.217\n",
      "Total CPU secs in NLP function evaluations           =      0.448\n",
      "\n",
      "EXIT: Optimal Solution Found.\n"
     ]
    },
    {
     "data": {
      "text/plain": [
       "Dict{String, Any} with 8 entries:\n",
       "  \"solve_time\"         => 0.848\n",
       "  \"optimizer\"          => \"Ipopt\"\n",
       "  \"termination_status\" => LOCALLY_SOLVED\n",
       "  \"dual_status\"        => FEASIBLE_POINT\n",
       "  \"primal_status\"      => FEASIBLE_POINT\n",
       "  \"objective\"          => -2.18633e5\n",
       "  \"solution\"           => Dict{String, Any}(\"baseMVA\"=>100.0, \"gen\"=>Dict{Strin…\n",
       "  \"objective_lb\"       => -Inf"
      ]
     },
     "metadata": {},
     "output_type": "display_data"
    }
   ],
   "source": [
    "result = PM.optimize_model!(pm, optimizer=Ipopt.Optimizer)"
   ]
  },
  {
   "cell_type": "code",
   "execution_count": 10,
   "id": "42d41a88",
   "metadata": {},
   "outputs": [
    {
     "data": {
      "text/plain": [
       "Dict{String, Any} with 5 entries:\n",
       "  \"4\" => Dict{String, Any}(\"qg\"=>90.4866, \"pg\"=>-86.6621)\n",
       "  \"1\" => Dict{String, Any}(\"qg\"=>27.0972, \"pg\"=>0.4)\n",
       "  \"5\" => Dict{String, Any}(\"qg\"=>44.9625, \"pg\"=>109.305)\n",
       "  \"2\" => Dict{String, Any}(\"qg\"=>23.9682, \"pg\"=>1.7)\n",
       "  \"3\" => Dict{String, Any}(\"qg\"=>16.1102, \"pg\"=>5.2)"
      ]
     },
     "metadata": {},
     "output_type": "display_data"
    }
   ],
   "source": [
    "result[\"solution\"][\"gen\"]"
   ]
  }
 ],
 "metadata": {
  "kernelspec": {
   "display_name": "Julia 1.10.7",
   "language": "julia",
   "name": "julia-1.10"
  },
  "language_info": {
   "file_extension": ".jl",
   "mimetype": "application/julia",
   "name": "julia",
   "version": "1.10.7"
  }
 },
 "nbformat": 4,
 "nbformat_minor": 5
}
