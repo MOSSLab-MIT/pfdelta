{
 "cells": [
  {
   "cell_type": "markdown",
   "id": "1c1a97ea",
   "metadata": {},
   "source": [
    "# Easy data checks"
   ]
  },
  {
   "cell_type": "code",
   "execution_count": null,
   "id": "cfe4ed70",
   "metadata": {},
   "outputs": [],
   "source": [
    "# Violin plots for all nodal variables (with comparison against existing datasets)"
   ]
  },
  {
   "cell_type": "code",
   "execution_count": null,
   "id": "a0de2a47",
   "metadata": {},
   "outputs": [],
   "source": [
    "# Table with descriptive statistics"
   ]
  },
  {
   "cell_type": "code",
   "execution_count": null,
   "id": "d81a8900",
   "metadata": {},
   "outputs": [],
   "source": [
    "# Plots / tables for contingencies"
   ]
  },
  {
   "cell_type": "code",
   "execution_count": null,
   "id": "d79e64c6",
   "metadata": {},
   "outputs": [],
   "source": [
    "# Plots to check power balance "
   ]
  },
  {
   "cell_type": "code",
   "execution_count": null,
   "id": "6e979d5e",
   "metadata": {},
   "outputs": [],
   "source": [
    "# Check disconnected graphs + see what has happening with ipopt"
   ]
  },
  {
   "cell_type": "markdown",
   "id": "035705c9",
   "metadata": {},
   "source": [
    "# Hard cases checks"
   ]
  },
  {
   "cell_type": "code",
   "execution_count": null,
   "id": "b1883546",
   "metadata": {},
   "outputs": [],
   "source": [
    "# Violin plots for all nodal variables (with comparison against existing datasets and easy datasets)"
   ]
  },
  {
   "cell_type": "code",
   "execution_count": null,
   "id": "9e3ddd86",
   "metadata": {},
   "outputs": [],
   "source": [
    "# Table with descriptive statistics"
   ]
  },
  {
   "cell_type": "code",
   "execution_count": null,
   "id": "38346b39",
   "metadata": {},
   "outputs": [],
   "source": [
    "# Plot to keep track of contingencies"
   ]
  },
  {
   "cell_type": "code",
   "execution_count": null,
   "id": "a4a8604c",
   "metadata": {},
   "outputs": [],
   "source": [
    "# Plot to check power balance"
   ]
  },
  {
   "cell_type": "code",
   "execution_count": null,
   "id": "cbc184d4",
   "metadata": {},
   "outputs": [],
   "source": [
    "# Create PV curves (to be manually inspected)"
   ]
  },
  {
   "cell_type": "code",
   "execution_count": null,
   "id": "262300b7",
   "metadata": {},
   "outputs": [],
   "source": [
    "# Plot condition numbers"
   ]
  },
  {
   "cell_type": "code",
   "execution_count": null,
   "id": "595951d9",
   "metadata": {},
   "outputs": [],
   "source": [
    "# Check disconnected graphs"
   ]
  },
  {
   "cell_type": "markdown",
   "id": "55640d46",
   "metadata": {},
   "source": [
    "# Additional checks"
   ]
  },
  {
   "cell_type": "code",
   "execution_count": null,
   "id": "416e3ead",
   "metadata": {},
   "outputs": [],
   "source": [
    "# Check cost vector distributions"
   ]
  },
  {
   "cell_type": "code",
   "execution_count": null,
   "id": "874473c8",
   "metadata": {},
   "outputs": [],
   "source": [
    "# Check warm started NR"
   ]
  }
 ],
 "metadata": {
  "kernelspec": {
   "display_name": "delta_pf",
   "language": "python",
   "name": "python3"
  },
  "language_info": {
   "name": "python",
   "version": "3.10.16"
  }
 },
 "nbformat": 4,
 "nbformat_minor": 5
}
