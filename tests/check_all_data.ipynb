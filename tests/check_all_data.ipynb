{
 "cells": [
  {
   "cell_type": "code",
   "execution_count": 1,
   "id": "e37a3771",
   "metadata": {},
   "outputs": [],
   "source": [
    "from utils import PFDeltaDataset, PowerBalanceLoss\n",
    "import os"
   ]
  },
  {
   "cell_type": "markdown",
   "id": "1c1a97ea",
   "metadata": {},
   "source": [
    "# Easy data checks"
   ]
  },
  {
   "cell_type": "code",
   "execution_count": null,
   "id": "cfe4ed70",
   "metadata": {},
   "outputs": [
    {
     "ename": "",
     "evalue": "",
     "output_type": "error",
     "traceback": [
      "\u001b[1;31mnotebook controller is DISPOSED. \n",
      "\u001b[1;31mView Jupyter <a href='command:jupyter.viewOutput'>log</a> for further details."
     ]
    },
    {
     "ename": "",
     "evalue": "",
     "output_type": "error",
     "traceback": [
      "\u001b[1;31mnotebook controller is DISPOSED. \n",
      "\u001b[1;31mView Jupyter <a href='command:jupyter.viewOutput'>log</a> for further details."
     ]
    }
   ],
   "source": [
    "# Violin plots for all nodal variables (with comparison against existing datasets)"
   ]
  },
  {
   "cell_type": "code",
   "execution_count": null,
   "id": "a0de2a47",
   "metadata": {},
   "outputs": [
    {
     "ename": "",
     "evalue": "",
     "output_type": "error",
     "traceback": [
      "\u001b[1;31mnotebook controller is DISPOSED. \n",
      "\u001b[1;31mView Jupyter <a href='command:jupyter.viewOutput'>log</a> for further details."
     ]
    },
    {
     "ename": "",
     "evalue": "",
     "output_type": "error",
     "traceback": [
      "\u001b[1;31mnotebook controller is DISPOSED. \n",
      "\u001b[1;31mView Jupyter <a href='command:jupyter.viewOutput'>log</a> for further details."
     ]
    }
   ],
   "source": [
    "# Table with descriptive statistics"
   ]
  },
  {
   "cell_type": "code",
   "execution_count": null,
   "id": "d81a8900",
   "metadata": {},
   "outputs": [
    {
     "ename": "",
     "evalue": "",
     "output_type": "error",
     "traceback": [
      "\u001b[1;31mnotebook controller is DISPOSED. \n",
      "\u001b[1;31mView Jupyter <a href='command:jupyter.viewOutput'>log</a> for further details."
     ]
    },
    {
     "ename": "",
     "evalue": "",
     "output_type": "error",
     "traceback": [
      "\u001b[1;31mnotebook controller is DISPOSED. \n",
      "\u001b[1;31mView Jupyter <a href='command:jupyter.viewOutput'>log</a> for further details."
     ]
    }
   ],
   "source": [
    "# Plots / tables for contingencies"
   ]
  },
  {
   "cell_type": "code",
   "execution_count": null,
   "id": "6e979d5e",
   "metadata": {},
   "outputs": [
    {
     "ename": "",
     "evalue": "",
     "output_type": "error",
     "traceback": [
      "\u001b[1;31mnotebook controller is DISPOSED. \n",
      "\u001b[1;31mView Jupyter <a href='command:jupyter.viewOutput'>log</a> for further details."
     ]
    },
    {
     "ename": "",
     "evalue": "",
     "output_type": "error",
     "traceback": [
      "\u001b[1;31mnotebook controller is DISPOSED. \n",
      "\u001b[1;31mView Jupyter <a href='command:jupyter.viewOutput'>log</a> for further details."
     ]
    }
   ],
   "source": [
    "# Check disconnected graphs + see what has happening with ipopt"
   ]
  },
  {
   "cell_type": "code",
   "execution_count": null,
   "id": "38346b39",
   "metadata": {},
   "outputs": [
    {
     "ename": "",
     "evalue": "",
     "output_type": "error",
     "traceback": [
      "\u001b[1;31mnotebook controller is DISPOSED. \n",
      "\u001b[1;31mView Jupyter <a href='command:jupyter.viewOutput'>log</a> for further details."
     ]
    },
    {
     "ename": "",
     "evalue": "",
     "output_type": "error",
     "traceback": [
      "\u001b[1;31mnotebook controller is DISPOSED. \n",
      "\u001b[1;31mView Jupyter <a href='command:jupyter.viewOutput'>log</a> for further details."
     ]
    }
   ],
   "source": [
    "# Plot to keep track of contingencies"
   ]
  },
  {
   "cell_type": "code",
   "execution_count": null,
   "id": "d79e64c6",
   "metadata": {},
   "outputs": [
    {
     "ename": "",
     "evalue": "",
     "output_type": "error",
     "traceback": [
      "\u001b[1;31mnotebook controller is DISPOSED. \n",
      "\u001b[1;31mView Jupyter <a href='command:jupyter.viewOutput'>log</a> for further details."
     ]
    },
    {
     "ename": "",
     "evalue": "",
     "output_type": "error",
     "traceback": [
      "\u001b[1;31mnotebook controller is DISPOSED. \n",
      "\u001b[1;31mView Jupyter <a href='command:jupyter.viewOutput'>log</a> for further details."
     ]
    }
   ],
   "source": [
    "# Plots to check power balance "
   ]
  },
  {
   "cell_type": "markdown",
   "id": "035705c9",
   "metadata": {},
   "source": [
    "# Hard cases checks"
   ]
  },
  {
   "cell_type": "code",
   "execution_count": 6,
   "id": "a4a8604c",
   "metadata": {},
   "outputs": [],
   "source": [
    "# Plot to check power balance\n",
    "case_name = \"case14\"\n",
    "# Get the current working directory (where your notebook is running)\n",
    "cwd = os.getcwd()\n",
    "\n",
    "# Go up one level and then into the data directory\n",
    "root_dir = os.path.join(\"/Volumes\", \"Crucial X9\")\n",
    "\n",
    "nose_cases_data = PFDeltaDataset(root_dir=root_dir,\n",
    "                                 case_name=case_name,\n",
    "                                 topology_perturb=\"n-2\",)"
   ]
  },
  {
   "cell_type": "code",
   "execution_count": 7,
   "id": "417f818e",
   "metadata": {},
   "outputs": [
    {
     "name": "stdout",
     "output_type": "stream",
     "text": [
      "tensor(9.5367e-07)\n",
      "tensor(2.8610e-06)\n",
      "tensor(7.1526e-07)\n",
      "tensor(2.1458e-06)\n",
      "tensor(4.1723e-07)\n",
      "tensor(1.5497e-06)\n",
      "tensor(1.4305e-06)\n",
      "tensor(8.3447e-07)\n",
      "tensor(5.9605e-07)\n",
      "tensor(1.9073e-06)\n",
      "tensor(8.3447e-07)\n",
      "tensor(2.1458e-06)\n",
      "tensor(1.1623e-06)\n",
      "tensor(1.9073e-06)\n",
      "tensor(8.6427e-07)\n",
      "tensor(1.4305e-06)\n",
      "tensor(1.6093e-06)\n",
      "tensor(2.2054e-06)\n",
      "tensor(1.5870e-06)\n",
      "tensor(1.7881e-06)\n",
      "tensor(9.5367e-07)\n",
      "tensor(3.9339e-06)\n",
      "tensor(9.8348e-07)\n",
      "tensor(1.2964e-06)\n",
      "tensor(9.5367e-07)\n",
      "tensor(9.5367e-07)\n",
      "tensor(5.0664e-07)\n",
      "tensor(1.0729e-06)\n",
      "tensor(1.0431e-06)\n",
      "tensor(3.7253e-06)\n",
      "tensor(5.3644e-07)\n",
      "tensor(9.5367e-07)\n",
      "tensor(9.5367e-07)\n",
      "tensor(3.2187e-06)\n",
      "tensor(5.0664e-07)\n",
      "tensor(1.1325e-06)\n",
      "tensor(9.5367e-07)\n",
      "tensor(1.9073e-06)\n",
      "tensor(1.4007e-06)\n",
      "tensor(2.8610e-06)\n",
      "tensor(9.5367e-07)\n",
      "tensor(1.7881e-06)\n",
      "tensor(4.7684e-07)\n",
      "tensor(2.3842e-06)\n",
      "tensor(9.5367e-07)\n",
      "tensor(1.4156e-06)\n",
      "tensor(9.5367e-07)\n",
      "tensor(1.6689e-06)\n",
      "tensor(1.4901e-06)\n",
      "tensor(2.8610e-06)\n",
      "tensor(1.2517e-06)\n",
      "tensor(1.4305e-06)\n",
      "tensor(1.4305e-06)\n",
      "tensor(1.4901e-06)\n",
      "tensor(4.7684e-07)\n",
      "tensor(2.5034e-06)\n",
      "tensor(9.5367e-07)\n",
      "tensor(1.9073e-06)\n",
      "tensor(1.2219e-06)\n",
      "tensor(2.8610e-06)\n",
      "tensor(9.5367e-07)\n",
      "tensor(6.4075e-07)\n",
      "tensor(8.0466e-07)\n",
      "tensor(2.3618e-06)\n",
      "tensor(9.5367e-07)\n",
      "tensor(4.5300e-06)\n",
      "tensor(9.5367e-07)\n",
      "tensor(2.9802e-06)\n",
      "tensor(1.4305e-06)\n",
      "tensor(2.3842e-06)\n",
      "tensor(1.3113e-06)\n",
      "tensor(1.3113e-06)\n",
      "tensor(8.6427e-07)\n",
      "tensor(1.4305e-06)\n",
      "tensor(6.5565e-07)\n",
      "tensor(2.1458e-06)\n",
      "tensor(1.6093e-06)\n",
      "tensor(2.3842e-06)\n",
      "tensor(6.8545e-07)\n",
      "tensor(2.3544e-06)\n",
      "tensor(7.7486e-07)\n",
      "tensor(3.3379e-06)\n",
      "tensor(7.1526e-07)\n",
      "tensor(1.6689e-06)\n",
      "tensor(1.4305e-06)\n",
      "tensor(2.1458e-06)\n",
      "tensor(8.3447e-07)\n",
      "tensor(1.4305e-06)\n",
      "tensor(1.0133e-06)\n",
      "tensor(2.3842e-06)\n",
      "tensor(1.3113e-06)\n",
      "tensor(3.3379e-06)\n",
      "tensor(4.1723e-07)\n",
      "tensor(2.3842e-06)\n",
      "tensor(4.1723e-07)\n",
      "tensor(7.1526e-07)\n",
      "tensor(1.9073e-06)\n",
      "tensor(2.8610e-06)\n",
      "tensor(5.0664e-07)\n",
      "tensor(7.5996e-07)\n",
      "tensor(4.7684e-07)\n",
      "tensor(1.1921e-06)\n",
      "tensor(8.0466e-07)\n",
      "tensor(2.3842e-06)\n",
      "tensor(9.5367e-07)\n",
      "tensor(1.9073e-06)\n",
      "tensor(8.6427e-07)\n",
      "tensor(1.9073e-06)\n",
      "tensor(2.2650e-06)\n",
      "tensor(2.8610e-06)\n",
      "tensor(7.4506e-07)\n",
      "tensor(1.4305e-06)\n",
      "tensor(4.1723e-07)\n",
      "tensor(9.5367e-07)\n",
      "tensor(1.0133e-06)\n",
      "tensor(3.1292e-06)\n",
      "tensor(9.5367e-07)\n",
      "tensor(1.4305e-06)\n",
      "tensor(4.7684e-07)\n",
      "tensor(1.5497e-06)\n",
      "tensor(7.1526e-07)\n",
      "tensor(9.5367e-07)\n",
      "tensor(9.5367e-07)\n",
      "tensor(1.1325e-06)\n",
      "tensor(7.1526e-07)\n",
      "tensor(3.4571e-06)\n",
      "tensor(1.4305e-06)\n",
      "tensor(1.0431e-06)\n",
      "tensor(4.7684e-07)\n",
      "tensor(9.5367e-07)\n",
      "tensor(9.5367e-07)\n",
      "tensor(2.1458e-06)\n",
      "tensor(7.1526e-07)\n",
      "tensor(5.9605e-07)\n",
      "tensor(9.5367e-07)\n",
      "tensor(2.5034e-06)\n",
      "tensor(7.1526e-07)\n",
      "tensor(2.3842e-06)\n",
      "tensor(8.3447e-07)\n",
      "tensor(1.9073e-06)\n",
      "tensor(8.9407e-07)\n",
      "tensor(1.1325e-06)\n",
      "tensor(1.4305e-06)\n",
      "tensor(9.5367e-07)\n",
      "tensor(3.2783e-07)\n",
      "tensor(3.0398e-06)\n",
      "tensor(1.7881e-06)\n",
      "tensor(9.5367e-07)\n",
      "tensor(1.9073e-06)\n",
      "tensor(2.3246e-06)\n",
      "tensor(9.5367e-07)\n",
      "tensor(1.0729e-06)\n",
      "tensor(1.3113e-06)\n",
      "tensor(1.6540e-06)\n",
      "tensor(1.0729e-06)\n",
      "tensor(2.7418e-06)\n",
      "tensor(1.7881e-06)\n",
      "tensor(1.9073e-06)\n",
      "tensor(4.7684e-07)\n",
      "tensor(1.2238e-06)\n",
      "tensor(1.3113e-06)\n",
      "tensor(2.8610e-06)\n",
      "tensor(5.9605e-07)\n",
      "tensor(1.4305e-06)\n",
      "tensor(8.9407e-07)\n",
      "tensor(2.8610e-06)\n",
      "tensor(9.5367e-07)\n",
      "tensor(1.1623e-06)\n",
      "tensor(9.5367e-07)\n",
      "tensor(1.4305e-06)\n",
      "tensor(5.9605e-07)\n",
      "tensor(2.1160e-06)\n",
      "tensor(1.7881e-06)\n",
      "tensor(1.4305e-06)\n",
      "tensor(9.5367e-07)\n",
      "tensor(2.9802e-06)\n",
      "tensor(1.6689e-06)\n",
      "tensor(2.0266e-06)\n",
      "tensor(9.5367e-07)\n",
      "tensor(1.4305e-06)\n",
      "tensor(3.2783e-07)\n",
      "tensor(1.4305e-06)\n",
      "tensor(9.8348e-07)\n",
      "tensor(1.4231e-06)\n",
      "tensor(1.0133e-06)\n",
      "tensor(1.4305e-06)\n",
      "tensor(5.3644e-07)\n",
      "tensor(1.1735e-06)\n",
      "tensor(7.1526e-07)\n",
      "tensor(2.7418e-06)\n",
      "tensor(1.0729e-06)\n",
      "tensor(7.0035e-07)\n",
      "tensor(1.1921e-06)\n",
      "tensor(1.0952e-06)\n",
      "tensor(8.1211e-07)\n",
      "tensor(1.9073e-06)\n",
      "tensor(5.9605e-07)\n",
      "tensor(1.5497e-06)\n",
      "tensor(7.1526e-07)\n",
      "tensor(1.5870e-06)\n",
      "tensor(2.2054e-06)\n",
      "tensor(2.3842e-06)\n",
      "tensor(1.5497e-06)\n",
      "tensor(2.3842e-06)\n",
      "tensor(1.2517e-06)\n",
      "tensor(1.4603e-06)\n",
      "tensor(8.3447e-07)\n",
      "tensor(1.6689e-06)\n",
      "tensor(1.9073e-06)\n",
      "tensor(1.0356e-06)\n",
      "tensor(1.6093e-06)\n",
      "tensor(9.5367e-07)\n",
      "tensor(6.5565e-07)\n",
      "tensor(2.1458e-06)\n",
      "tensor(1.5497e-06)\n",
      "tensor(3.3379e-06)\n",
      "tensor(1.1921e-06)\n",
      "tensor(2.8610e-06)\n",
      "tensor(9.5367e-07)\n",
      "tensor(2.8610e-06)\n",
      "tensor(1.1921e-06)\n",
      "tensor(1.9073e-06)\n",
      "tensor(1.2517e-06)\n",
      "tensor(2.5034e-06)\n",
      "tensor(1.1325e-06)\n",
      "tensor(1.9073e-06)\n",
      "tensor(1.0133e-06)\n",
      "tensor(1.4305e-06)\n",
      "tensor(9.8348e-07)\n",
      "tensor(1.4305e-06)\n",
      "tensor(1.0729e-06)\n",
      "tensor(1.9073e-06)\n",
      "tensor(9.5367e-07)\n",
      "tensor(1.4305e-06)\n",
      "tensor(6.8545e-07)\n",
      "tensor(1.9073e-06)\n",
      "tensor(9.5367e-07)\n",
      "tensor(2.0266e-06)\n",
      "tensor(7.1526e-07)\n",
      "tensor(3.5167e-06)\n",
      "tensor(7.1526e-07)\n",
      "tensor(3.5428e-06)\n",
      "tensor(6.5565e-07)\n",
      "tensor(6.4075e-07)\n",
      "tensor(4.7684e-07)\n",
      "tensor(1.6689e-06)\n",
      "tensor(9.5367e-07)\n",
      "tensor(1.7881e-06)\n",
      "tensor(4.1723e-07)\n",
      "tensor(1.4007e-06)\n",
      "tensor(9.5367e-07)\n",
      "tensor(7.1526e-07)\n",
      "tensor(1.0133e-06)\n",
      "tensor(9.5367e-07)\n",
      "tensor(8.3447e-07)\n",
      "tensor(1.8924e-06)\n",
      "tensor(1.4305e-06)\n",
      "tensor(3.3379e-06)\n",
      "tensor(9.5367e-07)\n",
      "tensor(2.9802e-06)\n",
      "tensor(5.9605e-07)\n",
      "tensor(1.9073e-06)\n",
      "tensor(1.3113e-06)\n",
      "tensor(3.3379e-06)\n",
      "tensor(4.1723e-07)\n",
      "tensor(1.9073e-06)\n",
      "tensor(1.3113e-06)\n",
      "tensor(4.4107e-06)\n",
      "tensor(1.9073e-06)\n",
      "tensor(1.9073e-06)\n",
      "tensor(6.5565e-07)\n",
      "tensor(1.0729e-06)\n",
      "tensor(7.7486e-07)\n",
      "tensor(1.9073e-06)\n",
      "tensor(5.9605e-07)\n",
      "tensor(1.6689e-06)\n",
      "tensor(9.5367e-07)\n",
      "tensor(1.4305e-06)\n",
      "tensor(1.3113e-06)\n",
      "tensor(9.8348e-07)\n",
      "tensor(6.8545e-07)\n",
      "tensor(1.1399e-06)\n",
      "tensor(9.5367e-07)\n",
      "tensor(1.0282e-06)\n",
      "tensor(5.9605e-07)\n",
      "tensor(2.5034e-06)\n",
      "tensor(5.0664e-07)\n",
      "tensor(1.3113e-06)\n",
      "tensor(8.3447e-07)\n",
      "tensor(2.3842e-06)\n",
      "tensor(9.5367e-07)\n",
      "tensor(1.4305e-06)\n",
      "tensor(1.4901e-06)\n",
      "tensor(1.8477e-06)\n",
      "tensor(8.9407e-07)\n",
      "tensor(2.3246e-06)\n",
      "tensor(1.3709e-06)\n",
      "tensor(4.7684e-07)\n",
      "tensor(9.5367e-07)\n",
      "tensor(1.1921e-06)\n",
      "tensor(4.7684e-07)\n",
      "tensor(1.9073e-06)\n",
      "tensor(4.7684e-07)\n",
      "tensor(1.6391e-06)\n",
      "tensor(7.1526e-07)\n",
      "tensor(1.6689e-06)\n",
      "tensor(7.1526e-07)\n",
      "tensor(4.6194e-07)\n",
      "tensor(9.5367e-07)\n",
      "tensor(1.6689e-06)\n",
      "tensor(1.9073e-06)\n",
      "tensor(1.6689e-06)\n",
      "tensor(9.5367e-07)\n",
      "tensor(1.9073e-06)\n",
      "tensor(1.1921e-06)\n",
      "tensor(3.0994e-06)\n",
      "tensor(9.5367e-07)\n",
      "tensor(1.6689e-06)\n",
      "tensor(9.5367e-07)\n",
      "tensor(9.5367e-07)\n",
      "tensor(9.5367e-07)\n",
      "tensor(2.9802e-06)\n",
      "tensor(1.1027e-06)\n",
      "tensor(1.4305e-06)\n",
      "tensor(8.9407e-07)\n",
      "tensor(1.9073e-06)\n",
      "tensor(1.0133e-06)\n",
      "tensor(9.5367e-07)\n",
      "tensor(6.5565e-07)\n",
      "tensor(2.2650e-06)\n",
      "tensor(6.5565e-07)\n",
      "tensor(1.9073e-06)\n",
      "tensor(1.0431e-06)\n",
      "tensor(1.3039e-06)\n",
      "tensor(8.9407e-07)\n",
      "tensor(2.1458e-06)\n",
      "tensor(1.0133e-06)\n",
      "tensor(1.1921e-06)\n",
      "tensor(6.5565e-07)\n",
      "tensor(2.5034e-06)\n",
      "tensor(3.5763e-07)\n",
      "tensor(1.6689e-06)\n",
      "tensor(1.0729e-06)\n",
      "tensor(2.3842e-06)\n",
      "tensor(1.9073e-06)\n",
      "tensor(1.4305e-06)\n",
      "tensor(9.5367e-07)\n",
      "tensor(2.7418e-06)\n",
      "tensor(1.0729e-06)\n",
      "tensor(9.5367e-07)\n",
      "tensor(3.0398e-06)\n",
      "tensor(1.9073e-06)\n",
      "tensor(9.5367e-07)\n",
      "tensor(2.8610e-06)\n",
      "tensor(1.4603e-06)\n",
      "tensor(1.9073e-06)\n",
      "tensor(1.3411e-06)\n",
      "tensor(1.1921e-06)\n",
      "tensor(7.1526e-07)\n",
      "tensor(1.1921e-06)\n",
      "tensor(9.5367e-07)\n",
      "tensor(3.8147e-06)\n",
      "tensor(7.1526e-07)\n",
      "tensor(1.3709e-06)\n",
      "tensor(9.5367e-07)\n",
      "tensor(1.6093e-06)\n",
      "tensor(1.6689e-06)\n",
      "tensor(1.9073e-06)\n",
      "tensor(7.1526e-07)\n",
      "tensor(3.3975e-06)\n",
      "tensor(8.9407e-07)\n",
      "tensor(1.5274e-06)\n",
      "tensor(5.9605e-07)\n",
      "tensor(1.5497e-06)\n",
      "tensor(1.0580e-06)\n",
      "tensor(7.1526e-07)\n",
      "tensor(6.2585e-07)\n",
      "tensor(1.9073e-06)\n",
      "tensor(1.6689e-06)\n",
      "tensor(2.3842e-06)\n",
      "tensor(1.4305e-06)\n",
      "tensor(2.2948e-06)\n",
      "tensor(1.0729e-06)\n",
      "tensor(1.1325e-06)\n",
      "tensor(1.2517e-06)\n",
      "tensor(2.8610e-06)\n",
      "tensor(1.1623e-06)\n",
      "tensor(7.1526e-07)\n",
      "tensor(1.0729e-06)\n",
      "tensor(1.7881e-06)\n",
      "tensor(7.1526e-07)\n",
      "tensor(6.1467e-07)\n",
      "tensor(3.5763e-07)\n",
      "tensor(1.4305e-06)\n",
      "tensor(7.7486e-07)\n",
      "tensor(2.3842e-06)\n",
      "tensor(1.0431e-06)\n",
      "tensor(1.2815e-06)\n",
      "tensor(1.6689e-06)\n",
      "tensor(2.3842e-06)\n"
     ]
    }
   ],
   "source": [
    "for data in nose_cases_data:\n",
    "    _, delta_P, delta_Q = PowerBalanceLoss()(data) \n",
    "    print(max(delta_P))\n",
    "    print(max(delta_Q))"
   ]
  },
  {
   "cell_type": "code",
   "execution_count": null,
   "id": "b1883546",
   "metadata": {},
   "outputs": [
    {
     "ename": "",
     "evalue": "",
     "output_type": "error",
     "traceback": [
      "\u001b[1;31mnotebook controller is DISPOSED. \n",
      "\u001b[1;31mView Jupyter <a href='command:jupyter.viewOutput'>log</a> for further details."
     ]
    },
    {
     "ename": "",
     "evalue": "",
     "output_type": "error",
     "traceback": [
      "\u001b[1;31mnotebook controller is DISPOSED. \n",
      "\u001b[1;31mView Jupyter <a href='command:jupyter.viewOutput'>log</a> for further details."
     ]
    }
   ],
   "source": [
    "# Violin plots for all nodal variables (with comparison against existing datasets and easy datasets)"
   ]
  },
  {
   "cell_type": "code",
   "execution_count": null,
   "id": "9e3ddd86",
   "metadata": {},
   "outputs": [
    {
     "ename": "",
     "evalue": "",
     "output_type": "error",
     "traceback": [
      "\u001b[1;31mnotebook controller is DISPOSED. \n",
      "\u001b[1;31mView Jupyter <a href='command:jupyter.viewOutput'>log</a> for further details."
     ]
    },
    {
     "ename": "",
     "evalue": "",
     "output_type": "error",
     "traceback": [
      "\u001b[1;31mnotebook controller is DISPOSED. \n",
      "\u001b[1;31mView Jupyter <a href='command:jupyter.viewOutput'>log</a> for further details."
     ]
    }
   ],
   "source": [
    "# Table with descriptive statistics"
   ]
  },
  {
   "cell_type": "code",
   "execution_count": null,
   "id": "cbc184d4",
   "metadata": {},
   "outputs": [
    {
     "ename": "",
     "evalue": "",
     "output_type": "error",
     "traceback": [
      "\u001b[1;31mnotebook controller is DISPOSED. \n",
      "\u001b[1;31mView Jupyter <a href='command:jupyter.viewOutput'>log</a> for further details."
     ]
    },
    {
     "ename": "",
     "evalue": "",
     "output_type": "error",
     "traceback": [
      "\u001b[1;31mnotebook controller is DISPOSED. \n",
      "\u001b[1;31mView Jupyter <a href='command:jupyter.viewOutput'>log</a> for further details."
     ]
    }
   ],
   "source": [
    "# Create PV curves (to be manually inspected)"
   ]
  },
  {
   "cell_type": "code",
   "execution_count": null,
   "id": "262300b7",
   "metadata": {},
   "outputs": [
    {
     "ename": "",
     "evalue": "",
     "output_type": "error",
     "traceback": [
      "\u001b[1;31mnotebook controller is DISPOSED. \n",
      "\u001b[1;31mView Jupyter <a href='command:jupyter.viewOutput'>log</a> for further details."
     ]
    },
    {
     "ename": "",
     "evalue": "",
     "output_type": "error",
     "traceback": [
      "\u001b[1;31mnotebook controller is DISPOSED. \n",
      "\u001b[1;31mView Jupyter <a href='command:jupyter.viewOutput'>log</a> for further details."
     ]
    }
   ],
   "source": [
    "# Plot condition numbers"
   ]
  },
  {
   "cell_type": "code",
   "execution_count": null,
   "id": "595951d9",
   "metadata": {},
   "outputs": [
    {
     "ename": "",
     "evalue": "",
     "output_type": "error",
     "traceback": [
      "\u001b[1;31mnotebook controller is DISPOSED. \n",
      "\u001b[1;31mView Jupyter <a href='command:jupyter.viewOutput'>log</a> for further details."
     ]
    },
    {
     "ename": "",
     "evalue": "",
     "output_type": "error",
     "traceback": [
      "\u001b[1;31mnotebook controller is DISPOSED. \n",
      "\u001b[1;31mView Jupyter <a href='command:jupyter.viewOutput'>log</a> for further details."
     ]
    }
   ],
   "source": [
    "# Check disconnected graphs"
   ]
  },
  {
   "cell_type": "markdown",
   "id": "55640d46",
   "metadata": {},
   "source": [
    "# Additional checks"
   ]
  },
  {
   "cell_type": "code",
   "execution_count": null,
   "id": "416e3ead",
   "metadata": {},
   "outputs": [
    {
     "ename": "",
     "evalue": "",
     "output_type": "error",
     "traceback": [
      "\u001b[1;31mnotebook controller is DISPOSED. \n",
      "\u001b[1;31mView Jupyter <a href='command:jupyter.viewOutput'>log</a> for further details."
     ]
    },
    {
     "ename": "",
     "evalue": "",
     "output_type": "error",
     "traceback": [
      "\u001b[1;31mnotebook controller is DISPOSED. \n",
      "\u001b[1;31mView Jupyter <a href='command:jupyter.viewOutput'>log</a> for further details."
     ]
    }
   ],
   "source": [
    "# Check cost vector distributions"
   ]
  },
  {
   "cell_type": "code",
   "execution_count": null,
   "id": "874473c8",
   "metadata": {},
   "outputs": [
    {
     "ename": "",
     "evalue": "",
     "output_type": "error",
     "traceback": [
      "\u001b[1;31mnotebook controller is DISPOSED. \n",
      "\u001b[1;31mView Jupyter <a href='command:jupyter.viewOutput'>log</a> for further details."
     ]
    },
    {
     "ename": "",
     "evalue": "",
     "output_type": "error",
     "traceback": [
      "\u001b[1;31mnotebook controller is DISPOSED. \n",
      "\u001b[1;31mView Jupyter <a href='command:jupyter.viewOutput'>log</a> for further details."
     ]
    }
   ],
   "source": [
    "# Check warm started NR"
   ]
  }
 ],
 "metadata": {
  "kernelspec": {
   "display_name": "delta_pf",
   "language": "python",
   "name": "python3"
  },
  "language_info": {
   "codemirror_mode": {
    "name": "ipython",
    "version": 3
   },
   "file_extension": ".py",
   "mimetype": "text/x-python",
   "name": "python",
   "nbconvert_exporter": "python",
   "pygments_lexer": "ipython3",
   "version": "3.10.16"
  }
 },
 "nbformat": 4,
 "nbformat_minor": 5
}
