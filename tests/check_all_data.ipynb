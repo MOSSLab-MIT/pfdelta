{
 "cells": [
  {
   "cell_type": "code",
   "execution_count": 1,
   "id": "e37a3771",
   "metadata": {},
   "outputs": [],
   "source": [
    "from utils import PFDeltaDataset, PowerBalanceLoss\n",
    "import os"
   ]
  },
  {
   "cell_type": "markdown",
   "id": "1c1a97ea",
   "metadata": {},
   "source": [
    "# Easy data checks"
   ]
  },
  {
   "cell_type": "code",
   "execution_count": 2,
   "id": "cfe4ed70",
   "metadata": {},
   "outputs": [],
   "source": [
    "# Violin plots for all nodal variables (with comparison against existing datasets)"
   ]
  },
  {
   "cell_type": "code",
   "execution_count": 3,
   "id": "a0de2a47",
   "metadata": {},
   "outputs": [],
   "source": [
    "# Table with descriptive statistics"
   ]
  },
  {
   "cell_type": "code",
   "execution_count": 4,
   "id": "d81a8900",
   "metadata": {},
   "outputs": [],
   "source": [
    "# Plots / tables for contingencies"
   ]
  },
  {
   "cell_type": "code",
   "execution_count": 5,
   "id": "6e979d5e",
   "metadata": {},
   "outputs": [],
   "source": [
    "# Check disconnected graphs + see what has happening with ipopt"
   ]
  },
  {
   "cell_type": "code",
   "execution_count": 6,
   "id": "38346b39",
   "metadata": {},
   "outputs": [],
   "source": [
    "# Plot to keep track of contingencies"
   ]
  },
  {
   "cell_type": "code",
   "execution_count": 7,
   "id": "d79e64c6",
   "metadata": {},
   "outputs": [],
   "source": [
    "# Plots to check power balance "
   ]
  },
  {
   "cell_type": "markdown",
   "id": "035705c9",
   "metadata": {},
   "source": [
    "# Hard cases checks"
   ]
  },
  {
   "cell_type": "code",
   "execution_count": 8,
   "id": "a4a8604c",
   "metadata": {},
   "outputs": [],
   "source": [
    "# Plot to check power balance\n",
    "case_name = \"case118\"\n",
    "# Get the current working directory (where your notebook is running)\n",
    "cwd = os.getcwd()\n",
    "\n",
    "# Go up one level and then into the data directory\n",
    "root_dir = os.path.join(cwd, \"..\", \"data\")\n",
    "\n",
    "nose_cases_data = PFDeltaDataset(root_dir=root_dir,\n",
    "                                 case_name=case_name)"
   ]
  },
  {
   "cell_type": "code",
   "execution_count": 9,
   "id": "417f818e",
   "metadata": {},
   "outputs": [
    {
     "name": "stdout",
     "output_type": "stream",
     "text": [
      "tensor(1.9431e-05)\n",
      "tensor(3.3140e-05)\n",
      "tensor(3.0398e-05)\n",
      "tensor(2.6777e-05)\n",
      "tensor(2.5570e-05)\n",
      "tensor(3.9101e-05)\n",
      "tensor(2.5988e-05)\n",
      "tensor(1.8954e-05)\n"
     ]
    }
   ],
   "source": [
    "for data in nose_cases_data:\n",
    "    _, delta_P, delta_Q = PowerBalanceLoss()(data)\n",
    "    print(max(delta_P))\n",
    "    print(max(delta_Q))"
   ]
  },
  {
   "cell_type": "code",
   "execution_count": 10,
   "id": "b1883546",
   "metadata": {},
   "outputs": [],
   "source": [
    "# Violin plots for all nodal variables (with comparison against existing datasets and easy datasets)"
   ]
  },
  {
   "cell_type": "code",
   "execution_count": 11,
   "id": "9e3ddd86",
   "metadata": {},
   "outputs": [],
   "source": [
    "# Table with descriptive statistics"
   ]
  },
  {
   "cell_type": "code",
   "execution_count": 12,
   "id": "cbc184d4",
   "metadata": {},
   "outputs": [],
   "source": [
    "# Create PV curves (to be manually inspected)"
   ]
  },
  {
   "cell_type": "code",
   "execution_count": 13,
   "id": "262300b7",
   "metadata": {},
   "outputs": [],
   "source": [
    "# Plot condition numbers"
   ]
  },
  {
   "cell_type": "code",
   "execution_count": 14,
   "id": "595951d9",
   "metadata": {},
   "outputs": [],
   "source": [
    "# Check disconnected graphs"
   ]
  },
  {
   "cell_type": "markdown",
   "id": "55640d46",
   "metadata": {},
   "source": [
    "# Additional checks"
   ]
  },
  {
   "cell_type": "code",
   "execution_count": 15,
   "id": "416e3ead",
   "metadata": {},
   "outputs": [],
   "source": [
    "# Check cost vector distributions"
   ]
  },
  {
   "cell_type": "code",
   "execution_count": 16,
   "id": "874473c8",
   "metadata": {},
   "outputs": [],
   "source": [
    "# Check warm started NR"
   ]
  }
 ],
 "metadata": {
  "kernelspec": {
   "display_name": "delta_pf",
   "language": "python",
   "name": "python3"
  },
  "language_info": {
   "codemirror_mode": {
    "name": "ipython",
    "version": 3
   },
   "file_extension": ".py",
   "mimetype": "text/x-python",
   "name": "python",
   "nbconvert_exporter": "python",
   "pygments_lexer": "ipython3",
   "version": "3.10.16"
  }
 },
 "nbformat": 4,
 "nbformat_minor": 5
}
