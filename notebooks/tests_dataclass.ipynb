{
 "cells": [
  {
   "cell_type": "code",
   "execution_count": 7,
   "id": "94114d34",
   "metadata": {},
   "outputs": [],
   "source": [
    "from core.datasets.pfdelta_dataset import PFDeltaDataset"
   ]
  },
  {
   "cell_type": "code",
   "execution_count": 8,
   "id": "3443823d",
   "metadata": {},
   "outputs": [
    {
     "name": "stderr",
     "output_type": "stream",
     "text": [
      "Processing...\n"
     ]
    },
    {
     "name": "stdout",
     "output_type": "stream",
     "text": [
      "Processing data for task analysis\n",
      "Loading all dataset from ../data/processed/task_analysis_case14_n-1_approaching infeasible/all.pt\n"
     ]
    },
    {
     "name": "stderr",
     "output_type": "stream",
     "text": [
      "Done!\n",
      "/Users/anarivera/Documents/Projects/pfdelta_submitted/pfdelta/core/datasets/pfdelta_dataset.py:734: FutureWarning: You are using `torch.load` with `weights_only=False` (the current default value), which uses the default pickle module implicitly. It is possible to construct malicious pickle data which will execute arbitrary code during unpickling (See https://github.com/pytorch/pytorch/blob/main/SECURITY.md#untrusted-models for more details). In a future release, the default value for `weights_only` will be flipped to `True`. This limits the functions that could be executed during unpickling. Arbitrary objects will no longer be allowed to be loaded via this mode unless they are explicitly allowlisted by the user via `torch.serialization.add_safe_globals`. We recommend you start setting `weights_only=True` for any use case where you don't have full control of the loaded file. Please open an issue on GitHub for any issues related to this experimental feature.\n",
      "  self.data, self.slices = torch.load(processed_path)\n"
     ]
    }
   ],
   "source": [
    "case14_data = PFDeltaDataset(\n",
    "    root_dir=\"../data\",\n",
    "    case_name=\"case14\",\n",
    "    perturbation=\"n-1\",\n",
    "    task=\"analysis\",\n",
    "    sample_type=\"approaching infeasible\"\n",
    ")"
   ]
  },
  {
   "cell_type": "code",
   "execution_count": 9,
   "id": "e9b8b6a7",
   "metadata": {},
   "outputs": [
    {
     "data": {
      "text/plain": [
       "7200"
      ]
     },
     "execution_count": 9,
     "metadata": {},
     "output_type": "execute_result"
    }
   ],
   "source": [
    "len(case14_data)"
   ]
  }
 ],
 "metadata": {
  "kernelspec": {
   "display_name": "pfdelta_env",
   "language": "python",
   "name": "python3"
  },
  "language_info": {
   "codemirror_mode": {
    "name": "ipython",
    "version": 3
   },
   "file_extension": ".py",
   "mimetype": "text/x-python",
   "name": "python",
   "nbconvert_exporter": "python",
   "pygments_lexer": "ipython3",
   "version": "3.10.18"
  }
 },
 "nbformat": 4,
 "nbformat_minor": 5
}
